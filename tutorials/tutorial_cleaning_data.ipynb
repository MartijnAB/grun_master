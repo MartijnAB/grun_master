{
  "cells": [
    {
      "metadata": {},
      "cell_type": "markdown",
      "source": "# Cleaning data and handle Missing values"
    },
    {
      "metadata": {},
      "cell_type": "markdown",
      "source": "First we import a dataset into a pandas dataframe"
    },
    {
      "metadata": {
        "trusted": true
      },
      "cell_type": "code",
      "source": "import pandas as pd\nimport numpy as np\ndf=pd.read_table('data/JamesBondGlucoseLevels25.txt')\ndf.head(5)",
      "execution_count": 1,
      "outputs": [
        {
          "output_type": "execute_result",
          "execution_count": 1,
          "data": {
            "text/html": "<div>\n<table border=\"1\" class=\"dataframe\">\n  <thead>\n    <tr style=\"text-align: right;\">\n      <th></th>\n      <th>ID</th>\n      <th>Time</th>\n      <th>Type</th>\n      <th>hist.glucose.mg.dL.</th>\n      <th>Scan.glucose.mg.dL.</th>\n      <th>Not.numeric.fast.insuline</th>\n      <th>fast.insuline.unit.</th>\n      <th>Non.numeric.food</th>\n      <th>carbonhydrates.gram.</th>\n      <th>Non.numeric.long.insuline</th>\n      <th>long.insuline.unit.</th>\n      <th>Remarks</th>\n      <th>Strip.glucose.mg.dL.</th>\n      <th>Keton.mmol.L.</th>\n      <th>meal.insuline.unit.</th>\n      <th>Correctioninsuline.unit.</th>\n      <th>userchange.insuline.unit.</th>\n      <th>previous.time</th>\n      <th>adjusted.time</th>\n    </tr>\n  </thead>\n  <tbody>\n    <tr>\n      <th>561</th>\n      <td>2845</td>\n      <td>2019-04-25 00:08</td>\n      <td>1</td>\n      <td>NaN</td>\n      <td>109</td>\n      <td>NaN</td>\n      <td>NaN</td>\n      <td>NaN</td>\n      <td>NaN</td>\n      <td>NaN</td>\n      <td>NaN</td>\n      <td>NaN</td>\n      <td>NaN</td>\n      <td>NaN</td>\n      <td>NaN</td>\n      <td>NaN</td>\n      <td>NaN</td>\n      <td>NaN</td>\n      <td>NaN</td>\n    </tr>\n    <tr>\n      <th>562</th>\n      <td>2850</td>\n      <td>2019-04-25 00:50</td>\n      <td>1</td>\n      <td>NaN</td>\n      <td></td>\n      <td>NaN</td>\n      <td>NaN</td>\n      <td>NaN</td>\n      <td>NaN</td>\n      <td>NaN</td>\n      <td>NaN</td>\n      <td>NaN</td>\n      <td>NaN</td>\n      <td>NaN</td>\n      <td>NaN</td>\n      <td>NaN</td>\n      <td>NaN</td>\n      <td>NaN</td>\n      <td>NaN</td>\n    </tr>\n    <tr>\n      <th>563</th>\n      <td>2877</td>\n      <td>2019-04-25 07:02</td>\n      <td>1</td>\n      <td>NaN</td>\n      <td>123</td>\n      <td>NaN</td>\n      <td>NaN</td>\n      <td>NaN</td>\n      <td>NaN</td>\n      <td>NaN</td>\n      <td>NaN</td>\n      <td>NaN</td>\n      <td>NaN</td>\n      <td>NaN</td>\n      <td>NaN</td>\n      <td>NaN</td>\n      <td>NaN</td>\n      <td>NaN</td>\n      <td>NaN</td>\n    </tr>\n    <tr>\n      <th>564</th>\n      <td>2881</td>\n      <td>2019-04-25 07:34</td>\n      <td>1</td>\n      <td>NaN</td>\n      <td>158</td>\n      <td>NaN</td>\n      <td>NaN</td>\n      <td>NaN</td>\n      <td>NaN</td>\n      <td>NaN</td>\n      <td>NaN</td>\n      <td>NaN</td>\n      <td>NaN</td>\n      <td>NaN</td>\n      <td>NaN</td>\n      <td>NaN</td>\n      <td>NaN</td>\n      <td>NaN</td>\n      <td>NaN</td>\n    </tr>\n    <tr>\n      <th>565</th>\n      <td>2886</td>\n      <td>2019-04-25 08:19</td>\n      <td>1</td>\n      <td>NaN</td>\n      <td></td>\n      <td>NaN</td>\n      <td>NaN</td>\n      <td>NaN</td>\n      <td>NaN</td>\n      <td>NaN</td>\n      <td>NaN</td>\n      <td>NaN</td>\n      <td>NaN</td>\n      <td>NaN</td>\n      <td>NaN</td>\n      <td>NaN</td>\n      <td>NaN</td>\n      <td>NaN</td>\n      <td>NaN</td>\n    </tr>\n  </tbody>\n</table>\n</div>",
            "text/plain": "       ID              Time  Type  hist.glucose.mg.dL. Scan.glucose.mg.dL.  \\\n561  2845  2019-04-25 00:08     1                  NaN                 109   \n562  2850  2019-04-25 00:50     1                  NaN                       \n563  2877  2019-04-25 07:02     1                  NaN                 123   \n564  2881  2019-04-25 07:34     1                  NaN                 158   \n565  2886  2019-04-25 08:19     1                  NaN                       \n\n     Not.numeric.fast.insuline  fast.insuline.unit.  Non.numeric.food  \\\n561                        NaN                  NaN               NaN   \n562                        NaN                  NaN               NaN   \n563                        NaN                  NaN               NaN   \n564                        NaN                  NaN               NaN   \n565                        NaN                  NaN               NaN   \n\n     carbonhydrates.gram.  Non.numeric.long.insuline  long.insuline.unit.  \\\n561                   NaN                        NaN                  NaN   \n562                   NaN                        NaN                  NaN   \n563                   NaN                        NaN                  NaN   \n564                   NaN                        NaN                  NaN   \n565                   NaN                        NaN                  NaN   \n\n     Remarks  Strip.glucose.mg.dL.  Keton.mmol.L.  meal.insuline.unit.  \\\n561      NaN                   NaN            NaN                  NaN   \n562      NaN                   NaN            NaN                  NaN   \n563      NaN                   NaN            NaN                  NaN   \n564      NaN                   NaN            NaN                  NaN   \n565      NaN                   NaN            NaN                  NaN   \n\n     Correctioninsuline.unit.  userchange.insuline.unit.  previous.time  \\\n561                       NaN                        NaN            NaN   \n562                       NaN                        NaN            NaN   \n563                       NaN                        NaN            NaN   \n564                       NaN                        NaN            NaN   \n565                       NaN                        NaN            NaN   \n\n     adjusted.time  \n561            NaN  \n562            NaN  \n563            NaN  \n564            NaN  \n565            NaN  "
          },
          "metadata": {}
        }
      ]
    },
    {
      "metadata": {},
      "cell_type": "markdown",
      "source": "Let us change the index, since 'Time' makes more sense to use as an index"
    },
    {
      "metadata": {
        "trusted": false
      },
      "cell_type": "code",
      "source": "df=df.set_index('Time')\ndf.head(5)",
      "execution_count": 13,
      "outputs": [
        {
          "data": {
            "text/html": "<div>\n<style scoped>\n    .dataframe tbody tr th:only-of-type {\n        vertical-align: middle;\n    }\n\n    .dataframe tbody tr th {\n        vertical-align: top;\n    }\n\n    .dataframe thead th {\n        text-align: right;\n    }\n</style>\n<table border=\"1\" class=\"dataframe\">\n  <thead>\n    <tr style=\"text-align: right;\">\n      <th></th>\n      <th>ID</th>\n      <th>Type</th>\n      <th>hist.glucose.mg.dL.</th>\n      <th>Scan.glucose.mg.dL.</th>\n      <th>Not.numeric.fast.insuline</th>\n      <th>fast.insuline.unit.</th>\n      <th>Non.numeric.food</th>\n      <th>carbonhydrates.gram.</th>\n      <th>Non.numeric.long.insuline</th>\n      <th>long.insuline.unit.</th>\n      <th>Remarks</th>\n      <th>Strip.glucose.mg.dL.</th>\n      <th>Keton.mmol.L.</th>\n      <th>meal.insuline.unit.</th>\n      <th>Correctioninsuline.unit.</th>\n      <th>userchange.insuline.unit.</th>\n      <th>previous.time</th>\n      <th>adjusted.time</th>\n    </tr>\n    <tr>\n      <th>Time</th>\n      <th></th>\n      <th></th>\n      <th></th>\n      <th></th>\n      <th></th>\n      <th></th>\n      <th></th>\n      <th></th>\n      <th></th>\n      <th></th>\n      <th></th>\n      <th></th>\n      <th></th>\n      <th></th>\n      <th></th>\n      <th></th>\n      <th></th>\n      <th></th>\n    </tr>\n  </thead>\n  <tbody>\n    <tr>\n      <td>2019-04-25 00:08</td>\n      <td>2845</td>\n      <td>1</td>\n      <td>NaN</td>\n      <td>109</td>\n      <td>NaN</td>\n      <td>NaN</td>\n      <td>NaN</td>\n      <td>NaN</td>\n      <td>NaN</td>\n      <td>NaN</td>\n      <td>NaN</td>\n      <td>NaN</td>\n      <td>NaN</td>\n      <td>NaN</td>\n      <td>NaN</td>\n      <td>NaN</td>\n      <td>NaN</td>\n      <td>NaN</td>\n    </tr>\n    <tr>\n      <td>2019-04-25 00:50</td>\n      <td>2850</td>\n      <td>1</td>\n      <td>NaN</td>\n      <td></td>\n      <td>NaN</td>\n      <td>NaN</td>\n      <td>NaN</td>\n      <td>NaN</td>\n      <td>NaN</td>\n      <td>NaN</td>\n      <td>NaN</td>\n      <td>NaN</td>\n      <td>NaN</td>\n      <td>NaN</td>\n      <td>NaN</td>\n      <td>NaN</td>\n      <td>NaN</td>\n      <td>NaN</td>\n    </tr>\n    <tr>\n      <td>2019-04-25 07:02</td>\n      <td>2877</td>\n      <td>1</td>\n      <td>NaN</td>\n      <td>123</td>\n      <td>NaN</td>\n      <td>NaN</td>\n      <td>NaN</td>\n      <td>NaN</td>\n      <td>NaN</td>\n      <td>NaN</td>\n      <td>NaN</td>\n      <td>NaN</td>\n      <td>NaN</td>\n      <td>NaN</td>\n      <td>NaN</td>\n      <td>NaN</td>\n      <td>NaN</td>\n      <td>NaN</td>\n    </tr>\n    <tr>\n      <td>2019-04-25 07:34</td>\n      <td>2881</td>\n      <td>1</td>\n      <td>NaN</td>\n      <td>158</td>\n      <td>NaN</td>\n      <td>NaN</td>\n      <td>NaN</td>\n      <td>NaN</td>\n      <td>NaN</td>\n      <td>NaN</td>\n      <td>NaN</td>\n      <td>NaN</td>\n      <td>NaN</td>\n      <td>NaN</td>\n      <td>NaN</td>\n      <td>NaN</td>\n      <td>NaN</td>\n      <td>NaN</td>\n    </tr>\n    <tr>\n      <td>2019-04-25 08:19</td>\n      <td>2886</td>\n      <td>1</td>\n      <td>NaN</td>\n      <td></td>\n      <td>NaN</td>\n      <td>NaN</td>\n      <td>NaN</td>\n      <td>NaN</td>\n      <td>NaN</td>\n      <td>NaN</td>\n      <td>NaN</td>\n      <td>NaN</td>\n      <td>NaN</td>\n      <td>NaN</td>\n      <td>NaN</td>\n      <td>NaN</td>\n      <td>NaN</td>\n      <td>NaN</td>\n    </tr>\n  </tbody>\n</table>\n</div>",
            "text/plain": "                    ID  Type  hist.glucose.mg.dL. Scan.glucose.mg.dL.  \\\nTime                                                                    \n2019-04-25 00:08  2845     1                  NaN                 109   \n2019-04-25 00:50  2850     1                  NaN                       \n2019-04-25 07:02  2877     1                  NaN                 123   \n2019-04-25 07:34  2881     1                  NaN                 158   \n2019-04-25 08:19  2886     1                  NaN                       \n\n                  Not.numeric.fast.insuline  fast.insuline.unit.  \\\nTime                                                               \n2019-04-25 00:08                        NaN                  NaN   \n2019-04-25 00:50                        NaN                  NaN   \n2019-04-25 07:02                        NaN                  NaN   \n2019-04-25 07:34                        NaN                  NaN   \n2019-04-25 08:19                        NaN                  NaN   \n\n                  Non.numeric.food  carbonhydrates.gram.  \\\nTime                                                       \n2019-04-25 00:08               NaN                   NaN   \n2019-04-25 00:50               NaN                   NaN   \n2019-04-25 07:02               NaN                   NaN   \n2019-04-25 07:34               NaN                   NaN   \n2019-04-25 08:19               NaN                   NaN   \n\n                  Non.numeric.long.insuline  long.insuline.unit.  Remarks  \\\nTime                                                                        \n2019-04-25 00:08                        NaN                  NaN      NaN   \n2019-04-25 00:50                        NaN                  NaN      NaN   \n2019-04-25 07:02                        NaN                  NaN      NaN   \n2019-04-25 07:34                        NaN                  NaN      NaN   \n2019-04-25 08:19                        NaN                  NaN      NaN   \n\n                  Strip.glucose.mg.dL.  Keton.mmol.L.  meal.insuline.unit.  \\\nTime                                                                         \n2019-04-25 00:08                   NaN            NaN                  NaN   \n2019-04-25 00:50                   NaN            NaN                  NaN   \n2019-04-25 07:02                   NaN            NaN                  NaN   \n2019-04-25 07:34                   NaN            NaN                  NaN   \n2019-04-25 08:19                   NaN            NaN                  NaN   \n\n                  Correctioninsuline.unit.  userchange.insuline.unit.  \\\nTime                                                                    \n2019-04-25 00:08                       NaN                        NaN   \n2019-04-25 00:50                       NaN                        NaN   \n2019-04-25 07:02                       NaN                        NaN   \n2019-04-25 07:34                       NaN                        NaN   \n2019-04-25 08:19                       NaN                        NaN   \n\n                  previous.time  adjusted.time  \nTime                                            \n2019-04-25 00:08            NaN            NaN  \n2019-04-25 00:50            NaN            NaN  \n2019-04-25 07:02            NaN            NaN  \n2019-04-25 07:34            NaN            NaN  \n2019-04-25 08:19            NaN            NaN  "
          },
          "execution_count": 13,
          "metadata": {},
          "output_type": "execute_result"
        }
      ]
    },
    {
      "metadata": {},
      "cell_type": "markdown",
      "source": "Now we clean the data by rename some collumns, and select only the needed information. I choose to fill the empty spaces with `np.nan` for further processing\n\n    .replace(r'\\s+', np.nan, regex=True) "
    },
    {
      "metadata": {
        "trusted": false
      },
      "cell_type": "code",
      "source": "def reformat():\n    df=pd.read_table('data/JamesBondGlucoseLevels25.txt')\n    df=df.set_index('Time')\n    df = df.rename(columns = {\n                         'hist.glucose.mg.dL.':'glucose.hist',\n                         'Scan.glucose.mg.dL.':'glucose.scan',\n                         'previous.time':'time.previous',\n                         'adjusted.time':'time.new'})\n    columns_to_keep = [\n                   'Type',\n                   'glucose.hist',\n                   'glucose.scan',\n                   'time.previous',\n                   'time.new']\n    df = df[columns_to_keep].replace(r'\\s+', np.nan, regex=True) \n    return df\n\ndf = reformat()\ndf.head(5)",
      "execution_count": 14,
      "outputs": [
        {
          "data": {
            "text/html": "<div>\n<style scoped>\n    .dataframe tbody tr th:only-of-type {\n        vertical-align: middle;\n    }\n\n    .dataframe tbody tr th {\n        vertical-align: top;\n    }\n\n    .dataframe thead th {\n        text-align: right;\n    }\n</style>\n<table border=\"1\" class=\"dataframe\">\n  <thead>\n    <tr style=\"text-align: right;\">\n      <th></th>\n      <th>Type</th>\n      <th>glucose.hist</th>\n      <th>glucose.scan</th>\n      <th>time.previous</th>\n      <th>time.new</th>\n    </tr>\n    <tr>\n      <th>Time</th>\n      <th></th>\n      <th></th>\n      <th></th>\n      <th></th>\n      <th></th>\n    </tr>\n  </thead>\n  <tbody>\n    <tr>\n      <td>2019-04-25 00:08</td>\n      <td>1</td>\n      <td>NaN</td>\n      <td>109</td>\n      <td>NaN</td>\n      <td>NaN</td>\n    </tr>\n    <tr>\n      <td>2019-04-25 00:50</td>\n      <td>1</td>\n      <td>NaN</td>\n      <td>NaN</td>\n      <td>NaN</td>\n      <td>NaN</td>\n    </tr>\n    <tr>\n      <td>2019-04-25 07:02</td>\n      <td>1</td>\n      <td>NaN</td>\n      <td>123</td>\n      <td>NaN</td>\n      <td>NaN</td>\n    </tr>\n    <tr>\n      <td>2019-04-25 07:34</td>\n      <td>1</td>\n      <td>NaN</td>\n      <td>158</td>\n      <td>NaN</td>\n      <td>NaN</td>\n    </tr>\n    <tr>\n      <td>2019-04-25 08:19</td>\n      <td>1</td>\n      <td>NaN</td>\n      <td>NaN</td>\n      <td>NaN</td>\n      <td>NaN</td>\n    </tr>\n  </tbody>\n</table>\n</div>",
            "text/plain": "                  Type  glucose.hist glucose.scan  time.previous  time.new\nTime                                                                      \n2019-04-25 00:08     1           NaN          109            NaN       NaN\n2019-04-25 00:50     1           NaN          NaN            NaN       NaN\n2019-04-25 07:02     1           NaN          123            NaN       NaN\n2019-04-25 07:34     1           NaN          158            NaN       NaN\n2019-04-25 08:19     1           NaN          NaN            NaN       NaN"
          },
          "execution_count": 14,
          "metadata": {},
          "output_type": "execute_result"
        }
      ]
    },
    {
      "metadata": {},
      "cell_type": "markdown",
      "source": "## automatically fill missing values\nOne of the handy functions that Pandas has for working with missing values is the filling function, `fillna`. This function takes a number or parameters, for instance, you could pass in a single value which is called a scalar value to change all of the missing data to one value. \n"
    },
    {
      "metadata": {
        "trusted": false
      },
      "cell_type": "code",
      "source": "df.fillna?",
      "execution_count": 6,
      "outputs": []
    },
    {
      "metadata": {
        "scrolled": true,
        "trusted": false
      },
      "cell_type": "code",
      "source": "df = df.sort_index()\ndf.head(5)",
      "execution_count": 15,
      "outputs": [
        {
          "data": {
            "text/html": "<div>\n<style scoped>\n    .dataframe tbody tr th:only-of-type {\n        vertical-align: middle;\n    }\n\n    .dataframe tbody tr th {\n        vertical-align: top;\n    }\n\n    .dataframe thead th {\n        text-align: right;\n    }\n</style>\n<table border=\"1\" class=\"dataframe\">\n  <thead>\n    <tr style=\"text-align: right;\">\n      <th></th>\n      <th>Type</th>\n      <th>glucose.hist</th>\n      <th>glucose.scan</th>\n      <th>time.previous</th>\n      <th>time.new</th>\n    </tr>\n    <tr>\n      <th>Time</th>\n      <th></th>\n      <th></th>\n      <th></th>\n      <th></th>\n      <th></th>\n    </tr>\n  </thead>\n  <tbody>\n    <tr>\n      <td>2019-04-25 00:08</td>\n      <td>1</td>\n      <td>NaN</td>\n      <td>109</td>\n      <td>NaN</td>\n      <td>NaN</td>\n    </tr>\n    <tr>\n      <td>2019-04-25 00:14</td>\n      <td>0</td>\n      <td>93.0</td>\n      <td>NaN</td>\n      <td>NaN</td>\n      <td>NaN</td>\n    </tr>\n    <tr>\n      <td>2019-04-25 00:29</td>\n      <td>0</td>\n      <td>95.0</td>\n      <td>NaN</td>\n      <td>NaN</td>\n      <td>NaN</td>\n    </tr>\n    <tr>\n      <td>2019-04-25 00:44</td>\n      <td>0</td>\n      <td>103.0</td>\n      <td>NaN</td>\n      <td>NaN</td>\n      <td>NaN</td>\n    </tr>\n    <tr>\n      <td>2019-04-25 00:50</td>\n      <td>1</td>\n      <td>NaN</td>\n      <td>NaN</td>\n      <td>NaN</td>\n      <td>NaN</td>\n    </tr>\n  </tbody>\n</table>\n</div>",
            "text/plain": "                  Type  glucose.hist glucose.scan  time.previous  time.new\nTime                                                                      \n2019-04-25 00:08     1           NaN          109            NaN       NaN\n2019-04-25 00:14     0          93.0          NaN            NaN       NaN\n2019-04-25 00:29     0          95.0          NaN            NaN       NaN\n2019-04-25 00:44     0         103.0          NaN            NaN       NaN\n2019-04-25 00:50     1           NaN          NaN            NaN       NaN"
          },
          "execution_count": 15,
          "metadata": {},
          "output_type": "execute_result"
        }
      ]
    },
    {
      "metadata": {},
      "cell_type": "markdown",
      "source": "## fill by method parameters\n\nThe two common fill values are `ffill` and `bfill`. ffill is for forward filling and it updates an na value for a particular cell with the value from the previous row. It's important to note that your data needs to be sorted in order for this to have the effect you might want. Data that comes from traditional database management systems usually has no order guarantee, So be careful. First sort the data"
    },
    {
      "metadata": {
        "trusted": false
      },
      "cell_type": "code",
      "source": "df = df.fillna(method='ffill')\ndf.head(5)",
      "execution_count": 16,
      "outputs": [
        {
          "data": {
            "text/html": "<div>\n<style scoped>\n    .dataframe tbody tr th:only-of-type {\n        vertical-align: middle;\n    }\n\n    .dataframe tbody tr th {\n        vertical-align: top;\n    }\n\n    .dataframe thead th {\n        text-align: right;\n    }\n</style>\n<table border=\"1\" class=\"dataframe\">\n  <thead>\n    <tr style=\"text-align: right;\">\n      <th></th>\n      <th>Type</th>\n      <th>glucose.hist</th>\n      <th>glucose.scan</th>\n      <th>time.previous</th>\n      <th>time.new</th>\n    </tr>\n    <tr>\n      <th>Time</th>\n      <th></th>\n      <th></th>\n      <th></th>\n      <th></th>\n      <th></th>\n    </tr>\n  </thead>\n  <tbody>\n    <tr>\n      <td>2019-04-25 00:08</td>\n      <td>1</td>\n      <td>NaN</td>\n      <td>109</td>\n      <td>NaN</td>\n      <td>NaN</td>\n    </tr>\n    <tr>\n      <td>2019-04-25 00:14</td>\n      <td>0</td>\n      <td>93.0</td>\n      <td>109</td>\n      <td>NaN</td>\n      <td>NaN</td>\n    </tr>\n    <tr>\n      <td>2019-04-25 00:29</td>\n      <td>0</td>\n      <td>95.0</td>\n      <td>109</td>\n      <td>NaN</td>\n      <td>NaN</td>\n    </tr>\n    <tr>\n      <td>2019-04-25 00:44</td>\n      <td>0</td>\n      <td>103.0</td>\n      <td>109</td>\n      <td>NaN</td>\n      <td>NaN</td>\n    </tr>\n    <tr>\n      <td>2019-04-25 00:50</td>\n      <td>1</td>\n      <td>103.0</td>\n      <td>109</td>\n      <td>NaN</td>\n      <td>NaN</td>\n    </tr>\n  </tbody>\n</table>\n</div>",
            "text/plain": "                  Type  glucose.hist glucose.scan  time.previous  time.new\nTime                                                                      \n2019-04-25 00:08     1           NaN          109            NaN       NaN\n2019-04-25 00:14     0          93.0          109            NaN       NaN\n2019-04-25 00:29     0          95.0          109            NaN       NaN\n2019-04-25 00:44     0         103.0          109            NaN       NaN\n2019-04-25 00:50     1         103.0          109            NaN       NaN"
          },
          "execution_count": 16,
          "metadata": {},
          "output_type": "execute_result"
        }
      ]
    },
    {
      "metadata": {
        "trusted": false
      },
      "cell_type": "code",
      "source": "df = df.fillna(method='bfill')\ndf.head(5)",
      "execution_count": 17,
      "outputs": [
        {
          "data": {
            "text/html": "<div>\n<style scoped>\n    .dataframe tbody tr th:only-of-type {\n        vertical-align: middle;\n    }\n\n    .dataframe tbody tr th {\n        vertical-align: top;\n    }\n\n    .dataframe thead th {\n        text-align: right;\n    }\n</style>\n<table border=\"1\" class=\"dataframe\">\n  <thead>\n    <tr style=\"text-align: right;\">\n      <th></th>\n      <th>Type</th>\n      <th>glucose.hist</th>\n      <th>glucose.scan</th>\n      <th>time.previous</th>\n      <th>time.new</th>\n    </tr>\n    <tr>\n      <th>Time</th>\n      <th></th>\n      <th></th>\n      <th></th>\n      <th></th>\n      <th></th>\n    </tr>\n  </thead>\n  <tbody>\n    <tr>\n      <td>2019-04-25 00:08</td>\n      <td>1</td>\n      <td>93.0</td>\n      <td>109</td>\n      <td>NaN</td>\n      <td>NaN</td>\n    </tr>\n    <tr>\n      <td>2019-04-25 00:14</td>\n      <td>0</td>\n      <td>93.0</td>\n      <td>109</td>\n      <td>NaN</td>\n      <td>NaN</td>\n    </tr>\n    <tr>\n      <td>2019-04-25 00:29</td>\n      <td>0</td>\n      <td>95.0</td>\n      <td>109</td>\n      <td>NaN</td>\n      <td>NaN</td>\n    </tr>\n    <tr>\n      <td>2019-04-25 00:44</td>\n      <td>0</td>\n      <td>103.0</td>\n      <td>109</td>\n      <td>NaN</td>\n      <td>NaN</td>\n    </tr>\n    <tr>\n      <td>2019-04-25 00:50</td>\n      <td>1</td>\n      <td>103.0</td>\n      <td>109</td>\n      <td>NaN</td>\n      <td>NaN</td>\n    </tr>\n  </tbody>\n</table>\n</div>",
            "text/plain": "                  Type  glucose.hist glucose.scan  time.previous  time.new\nTime                                                                      \n2019-04-25 00:08     1          93.0          109            NaN       NaN\n2019-04-25 00:14     0          93.0          109            NaN       NaN\n2019-04-25 00:29     0          95.0          109            NaN       NaN\n2019-04-25 00:44     0         103.0          109            NaN       NaN\n2019-04-25 00:50     1         103.0          109            NaN       NaN"
          },
          "execution_count": 17,
          "metadata": {},
          "output_type": "execute_result"
        }
      ]
    },
    {
      "metadata": {},
      "cell_type": "markdown",
      "source": "## filling with calculated data\n\nIn the example above we filled the data with previous of following data. This might be handy in the case of few missing data. Another strategy might be to fill the missing data with calculated data (average). You could use `np.mean` for instance. This can be done easily since when you use statistical functions on DataFrames, these functions typically ignore missing values. For instance if you try and calculate the mean value of a DataFrame, the underlying NumPy function will ignore missing values. This is usually what you want but you should be aware that values are being excluded"
    },
    {
      "metadata": {
        "scrolled": true,
        "trusted": false
      },
      "cell_type": "code",
      "source": "df = reformat()\n\ndf.sort_index()\ndf.head(5)",
      "execution_count": 18,
      "outputs": [
        {
          "data": {
            "text/html": "<div>\n<style scoped>\n    .dataframe tbody tr th:only-of-type {\n        vertical-align: middle;\n    }\n\n    .dataframe tbody tr th {\n        vertical-align: top;\n    }\n\n    .dataframe thead th {\n        text-align: right;\n    }\n</style>\n<table border=\"1\" class=\"dataframe\">\n  <thead>\n    <tr style=\"text-align: right;\">\n      <th></th>\n      <th>Type</th>\n      <th>glucose.hist</th>\n      <th>glucose.scan</th>\n      <th>time.previous</th>\n      <th>time.new</th>\n    </tr>\n    <tr>\n      <th>Time</th>\n      <th></th>\n      <th></th>\n      <th></th>\n      <th></th>\n      <th></th>\n    </tr>\n  </thead>\n  <tbody>\n    <tr>\n      <td>2019-04-25 00:08</td>\n      <td>1</td>\n      <td>NaN</td>\n      <td>109</td>\n      <td>NaN</td>\n      <td>NaN</td>\n    </tr>\n    <tr>\n      <td>2019-04-25 00:50</td>\n      <td>1</td>\n      <td>NaN</td>\n      <td>NaN</td>\n      <td>NaN</td>\n      <td>NaN</td>\n    </tr>\n    <tr>\n      <td>2019-04-25 07:02</td>\n      <td>1</td>\n      <td>NaN</td>\n      <td>123</td>\n      <td>NaN</td>\n      <td>NaN</td>\n    </tr>\n    <tr>\n      <td>2019-04-25 07:34</td>\n      <td>1</td>\n      <td>NaN</td>\n      <td>158</td>\n      <td>NaN</td>\n      <td>NaN</td>\n    </tr>\n    <tr>\n      <td>2019-04-25 08:19</td>\n      <td>1</td>\n      <td>NaN</td>\n      <td>NaN</td>\n      <td>NaN</td>\n      <td>NaN</td>\n    </tr>\n  </tbody>\n</table>\n</div>",
            "text/plain": "                  Type  glucose.hist glucose.scan  time.previous  time.new\nTime                                                                      \n2019-04-25 00:08     1           NaN          109            NaN       NaN\n2019-04-25 00:50     1           NaN          NaN            NaN       NaN\n2019-04-25 07:02     1           NaN          123            NaN       NaN\n2019-04-25 07:34     1           NaN          158            NaN       NaN\n2019-04-25 08:19     1           NaN          NaN            NaN       NaN"
          },
          "execution_count": 18,
          "metadata": {},
          "output_type": "execute_result"
        }
      ]
    },
    {
      "metadata": {},
      "cell_type": "markdown",
      "source": "First I have to check if my data is numeric"
    },
    {
      "metadata": {
        "trusted": false
      },
      "cell_type": "code",
      "source": "print(df.dtypes)\n",
      "execution_count": 19,
      "outputs": [
        {
          "name": "stdout",
          "output_type": "stream",
          "text": "Type               int64\nglucose.hist     float64\nglucose.scan      object\ntime.previous    float64\ntime.new         float64\ndtype: object\n"
        }
      ]
    },
    {
      "metadata": {},
      "cell_type": "markdown",
      "source": "glucose.scan is not so we have to change this"
    },
    {
      "metadata": {
        "scrolled": true,
        "trusted": false
      },
      "cell_type": "code",
      "source": "df[\"glucose.scan\"] = pd.to_numeric(df[\"glucose.scan\"])\nprint(df.dtypes)\ndf.head(5)",
      "execution_count": 20,
      "outputs": [
        {
          "name": "stdout",
          "output_type": "stream",
          "text": "Type               int64\nglucose.hist     float64\nglucose.scan     float64\ntime.previous    float64\ntime.new         float64\ndtype: object\n"
        },
        {
          "data": {
            "text/html": "<div>\n<style scoped>\n    .dataframe tbody tr th:only-of-type {\n        vertical-align: middle;\n    }\n\n    .dataframe tbody tr th {\n        vertical-align: top;\n    }\n\n    .dataframe thead th {\n        text-align: right;\n    }\n</style>\n<table border=\"1\" class=\"dataframe\">\n  <thead>\n    <tr style=\"text-align: right;\">\n      <th></th>\n      <th>Type</th>\n      <th>glucose.hist</th>\n      <th>glucose.scan</th>\n      <th>time.previous</th>\n      <th>time.new</th>\n    </tr>\n    <tr>\n      <th>Time</th>\n      <th></th>\n      <th></th>\n      <th></th>\n      <th></th>\n      <th></th>\n    </tr>\n  </thead>\n  <tbody>\n    <tr>\n      <td>2019-04-25 00:08</td>\n      <td>1</td>\n      <td>NaN</td>\n      <td>109.0</td>\n      <td>NaN</td>\n      <td>NaN</td>\n    </tr>\n    <tr>\n      <td>2019-04-25 00:50</td>\n      <td>1</td>\n      <td>NaN</td>\n      <td>NaN</td>\n      <td>NaN</td>\n      <td>NaN</td>\n    </tr>\n    <tr>\n      <td>2019-04-25 07:02</td>\n      <td>1</td>\n      <td>NaN</td>\n      <td>123.0</td>\n      <td>NaN</td>\n      <td>NaN</td>\n    </tr>\n    <tr>\n      <td>2019-04-25 07:34</td>\n      <td>1</td>\n      <td>NaN</td>\n      <td>158.0</td>\n      <td>NaN</td>\n      <td>NaN</td>\n    </tr>\n    <tr>\n      <td>2019-04-25 08:19</td>\n      <td>1</td>\n      <td>NaN</td>\n      <td>NaN</td>\n      <td>NaN</td>\n      <td>NaN</td>\n    </tr>\n  </tbody>\n</table>\n</div>",
            "text/plain": "                  Type  glucose.hist  glucose.scan  time.previous  time.new\nTime                                                                       \n2019-04-25 00:08     1           NaN         109.0            NaN       NaN\n2019-04-25 00:50     1           NaN           NaN            NaN       NaN\n2019-04-25 07:02     1           NaN         123.0            NaN       NaN\n2019-04-25 07:34     1           NaN         158.0            NaN       NaN\n2019-04-25 08:19     1           NaN           NaN            NaN       NaN"
          },
          "execution_count": 20,
          "metadata": {},
          "output_type": "execute_result"
        }
      ]
    },
    {
      "metadata": {},
      "cell_type": "markdown",
      "source": "Now we can calculate means and fill the empty data with means"
    },
    {
      "metadata": {
        "scrolled": true,
        "trusted": false
      },
      "cell_type": "code",
      "source": "df = df.fillna(df.mean())\n#give them nice format\ndf[['glucose.scan','glucose.hist']]= df[['glucose.scan','glucose.hist']].astype(int)\ndf.head(5)",
      "execution_count": 21,
      "outputs": [
        {
          "data": {
            "text/html": "<div>\n<style scoped>\n    .dataframe tbody tr th:only-of-type {\n        vertical-align: middle;\n    }\n\n    .dataframe tbody tr th {\n        vertical-align: top;\n    }\n\n    .dataframe thead th {\n        text-align: right;\n    }\n</style>\n<table border=\"1\" class=\"dataframe\">\n  <thead>\n    <tr style=\"text-align: right;\">\n      <th></th>\n      <th>Type</th>\n      <th>glucose.hist</th>\n      <th>glucose.scan</th>\n      <th>time.previous</th>\n      <th>time.new</th>\n    </tr>\n    <tr>\n      <th>Time</th>\n      <th></th>\n      <th></th>\n      <th></th>\n      <th></th>\n      <th></th>\n    </tr>\n  </thead>\n  <tbody>\n    <tr>\n      <td>2019-04-25 00:08</td>\n      <td>1</td>\n      <td>115</td>\n      <td>109</td>\n      <td>NaN</td>\n      <td>NaN</td>\n    </tr>\n    <tr>\n      <td>2019-04-25 00:50</td>\n      <td>1</td>\n      <td>115</td>\n      <td>123</td>\n      <td>NaN</td>\n      <td>NaN</td>\n    </tr>\n    <tr>\n      <td>2019-04-25 07:02</td>\n      <td>1</td>\n      <td>115</td>\n      <td>123</td>\n      <td>NaN</td>\n      <td>NaN</td>\n    </tr>\n    <tr>\n      <td>2019-04-25 07:34</td>\n      <td>1</td>\n      <td>115</td>\n      <td>158</td>\n      <td>NaN</td>\n      <td>NaN</td>\n    </tr>\n    <tr>\n      <td>2019-04-25 08:19</td>\n      <td>1</td>\n      <td>115</td>\n      <td>123</td>\n      <td>NaN</td>\n      <td>NaN</td>\n    </tr>\n  </tbody>\n</table>\n</div>",
            "text/plain": "                  Type  glucose.hist  glucose.scan  time.previous  time.new\nTime                                                                       \n2019-04-25 00:08     1           115           109            NaN       NaN\n2019-04-25 00:50     1           115           123            NaN       NaN\n2019-04-25 07:02     1           115           123            NaN       NaN\n2019-04-25 07:34     1           115           158            NaN       NaN\n2019-04-25 08:19     1           115           123            NaN       NaN"
          },
          "execution_count": 21,
          "metadata": {},
          "output_type": "execute_result"
        }
      ]
    },
    {
      "metadata": {},
      "cell_type": "markdown",
      "source": "## add columns and modifying columns by splitting columns\n\nSuppose we want to group by date. Then we first have to split the column Tijd to Day & Time"
    },
    {
      "metadata": {
        "scrolled": true,
        "trusted": false
      },
      "cell_type": "code",
      "source": "df = reformat()\ndf = df.reset_index()\ndf.head(5)",
      "execution_count": 22,
      "outputs": [
        {
          "data": {
            "text/html": "<div>\n<style scoped>\n    .dataframe tbody tr th:only-of-type {\n        vertical-align: middle;\n    }\n\n    .dataframe tbody tr th {\n        vertical-align: top;\n    }\n\n    .dataframe thead th {\n        text-align: right;\n    }\n</style>\n<table border=\"1\" class=\"dataframe\">\n  <thead>\n    <tr style=\"text-align: right;\">\n      <th></th>\n      <th>Time</th>\n      <th>Type</th>\n      <th>glucose.hist</th>\n      <th>glucose.scan</th>\n      <th>time.previous</th>\n      <th>time.new</th>\n    </tr>\n  </thead>\n  <tbody>\n    <tr>\n      <td>0</td>\n      <td>2019-04-25 00:08</td>\n      <td>1</td>\n      <td>NaN</td>\n      <td>109</td>\n      <td>NaN</td>\n      <td>NaN</td>\n    </tr>\n    <tr>\n      <td>1</td>\n      <td>2019-04-25 00:50</td>\n      <td>1</td>\n      <td>NaN</td>\n      <td>NaN</td>\n      <td>NaN</td>\n      <td>NaN</td>\n    </tr>\n    <tr>\n      <td>2</td>\n      <td>2019-04-25 07:02</td>\n      <td>1</td>\n      <td>NaN</td>\n      <td>123</td>\n      <td>NaN</td>\n      <td>NaN</td>\n    </tr>\n    <tr>\n      <td>3</td>\n      <td>2019-04-25 07:34</td>\n      <td>1</td>\n      <td>NaN</td>\n      <td>158</td>\n      <td>NaN</td>\n      <td>NaN</td>\n    </tr>\n    <tr>\n      <td>4</td>\n      <td>2019-04-25 08:19</td>\n      <td>1</td>\n      <td>NaN</td>\n      <td>NaN</td>\n      <td>NaN</td>\n      <td>NaN</td>\n    </tr>\n  </tbody>\n</table>\n</div>",
            "text/plain": "               Time  Type  glucose.hist glucose.scan  time.previous  time.new\n0  2019-04-25 00:08     1           NaN          109            NaN       NaN\n1  2019-04-25 00:50     1           NaN          NaN            NaN       NaN\n2  2019-04-25 07:02     1           NaN          123            NaN       NaN\n3  2019-04-25 07:34     1           NaN          158            NaN       NaN\n4  2019-04-25 08:19     1           NaN          NaN            NaN       NaN"
          },
          "execution_count": 22,
          "metadata": {},
          "output_type": "execute_result"
        }
      ]
    },
    {
      "metadata": {
        "trusted": false
      },
      "cell_type": "code",
      "source": "print(df.dtypes)",
      "execution_count": 23,
      "outputs": [
        {
          "name": "stdout",
          "output_type": "stream",
          "text": "Time              object\nType               int64\nglucose.hist     float64\nglucose.scan      object\ntime.previous    float64\ntime.new         float64\ndtype: object\n"
        }
      ]
    },
    {
      "metadata": {
        "trusted": false
      },
      "cell_type": "code",
      "source": "df[['Time']]= df[['Time']].astype(str)\ndf['Day'], df['Time'] = df['Time'].str.split(' ', 1).str\ndf.head()",
      "execution_count": 24,
      "outputs": [
        {
          "data": {
            "text/html": "<div>\n<style scoped>\n    .dataframe tbody tr th:only-of-type {\n        vertical-align: middle;\n    }\n\n    .dataframe tbody tr th {\n        vertical-align: top;\n    }\n\n    .dataframe thead th {\n        text-align: right;\n    }\n</style>\n<table border=\"1\" class=\"dataframe\">\n  <thead>\n    <tr style=\"text-align: right;\">\n      <th></th>\n      <th>Time</th>\n      <th>Type</th>\n      <th>glucose.hist</th>\n      <th>glucose.scan</th>\n      <th>time.previous</th>\n      <th>time.new</th>\n      <th>Day</th>\n    </tr>\n  </thead>\n  <tbody>\n    <tr>\n      <td>0</td>\n      <td>00:08</td>\n      <td>1</td>\n      <td>NaN</td>\n      <td>109</td>\n      <td>NaN</td>\n      <td>NaN</td>\n      <td>2019-04-25</td>\n    </tr>\n    <tr>\n      <td>1</td>\n      <td>00:50</td>\n      <td>1</td>\n      <td>NaN</td>\n      <td>NaN</td>\n      <td>NaN</td>\n      <td>NaN</td>\n      <td>2019-04-25</td>\n    </tr>\n    <tr>\n      <td>2</td>\n      <td>07:02</td>\n      <td>1</td>\n      <td>NaN</td>\n      <td>123</td>\n      <td>NaN</td>\n      <td>NaN</td>\n      <td>2019-04-25</td>\n    </tr>\n    <tr>\n      <td>3</td>\n      <td>07:34</td>\n      <td>1</td>\n      <td>NaN</td>\n      <td>158</td>\n      <td>NaN</td>\n      <td>NaN</td>\n      <td>2019-04-25</td>\n    </tr>\n    <tr>\n      <td>4</td>\n      <td>08:19</td>\n      <td>1</td>\n      <td>NaN</td>\n      <td>NaN</td>\n      <td>NaN</td>\n      <td>NaN</td>\n      <td>2019-04-25</td>\n    </tr>\n  </tbody>\n</table>\n</div>",
            "text/plain": "    Time  Type  glucose.hist glucose.scan  time.previous  time.new         Day\n0  00:08     1           NaN          109            NaN       NaN  2019-04-25\n1  00:50     1           NaN          NaN            NaN       NaN  2019-04-25\n2  07:02     1           NaN          123            NaN       NaN  2019-04-25\n3  07:34     1           NaN          158            NaN       NaN  2019-04-25\n4  08:19     1           NaN          NaN            NaN       NaN  2019-04-25"
          },
          "execution_count": 24,
          "metadata": {},
          "output_type": "execute_result"
        }
      ]
    },
    {
      "metadata": {
        "trusted": false
      },
      "cell_type": "code",
      "source": "df[\"glucose.scan\"] = pd.to_numeric(df[\"glucose.scan\"])\ndf = df.fillna(df.mean())\ndf.head(5)",
      "execution_count": 25,
      "outputs": [
        {
          "data": {
            "text/html": "<div>\n<style scoped>\n    .dataframe tbody tr th:only-of-type {\n        vertical-align: middle;\n    }\n\n    .dataframe tbody tr th {\n        vertical-align: top;\n    }\n\n    .dataframe thead th {\n        text-align: right;\n    }\n</style>\n<table border=\"1\" class=\"dataframe\">\n  <thead>\n    <tr style=\"text-align: right;\">\n      <th></th>\n      <th>Time</th>\n      <th>Type</th>\n      <th>glucose.hist</th>\n      <th>glucose.scan</th>\n      <th>time.previous</th>\n      <th>time.new</th>\n      <th>Day</th>\n    </tr>\n  </thead>\n  <tbody>\n    <tr>\n      <td>0</td>\n      <td>00:08</td>\n      <td>1</td>\n      <td>115.560976</td>\n      <td>109.000000</td>\n      <td>NaN</td>\n      <td>NaN</td>\n      <td>2019-04-25</td>\n    </tr>\n    <tr>\n      <td>1</td>\n      <td>00:50</td>\n      <td>1</td>\n      <td>115.560976</td>\n      <td>123.403846</td>\n      <td>NaN</td>\n      <td>NaN</td>\n      <td>2019-04-25</td>\n    </tr>\n    <tr>\n      <td>2</td>\n      <td>07:02</td>\n      <td>1</td>\n      <td>115.560976</td>\n      <td>123.000000</td>\n      <td>NaN</td>\n      <td>NaN</td>\n      <td>2019-04-25</td>\n    </tr>\n    <tr>\n      <td>3</td>\n      <td>07:34</td>\n      <td>1</td>\n      <td>115.560976</td>\n      <td>158.000000</td>\n      <td>NaN</td>\n      <td>NaN</td>\n      <td>2019-04-25</td>\n    </tr>\n    <tr>\n      <td>4</td>\n      <td>08:19</td>\n      <td>1</td>\n      <td>115.560976</td>\n      <td>123.403846</td>\n      <td>NaN</td>\n      <td>NaN</td>\n      <td>2019-04-25</td>\n    </tr>\n  </tbody>\n</table>\n</div>",
            "text/plain": "    Time  Type  glucose.hist  glucose.scan  time.previous  time.new  \\\n0  00:08     1    115.560976    109.000000            NaN       NaN   \n1  00:50     1    115.560976    123.403846            NaN       NaN   \n2  07:02     1    115.560976    123.000000            NaN       NaN   \n3  07:34     1    115.560976    158.000000            NaN       NaN   \n4  08:19     1    115.560976    123.403846            NaN       NaN   \n\n          Day  \n0  2019-04-25  \n1  2019-04-25  \n2  2019-04-25  \n3  2019-04-25  \n4  2019-04-25  "
          },
          "execution_count": 25,
          "metadata": {},
          "output_type": "execute_result"
        }
      ]
    },
    {
      "metadata": {
        "trusted": false
      },
      "cell_type": "code",
      "source": "dmin = df[(df['Type'] == 1)].groupby('Day').aggregate({'glucose.scan':np.min})\ndmin",
      "execution_count": 26,
      "outputs": [
        {
          "data": {
            "text/html": "<div>\n<style scoped>\n    .dataframe tbody tr th:only-of-type {\n        vertical-align: middle;\n    }\n\n    .dataframe tbody tr th {\n        vertical-align: top;\n    }\n\n    .dataframe thead th {\n        text-align: right;\n    }\n</style>\n<table border=\"1\" class=\"dataframe\">\n  <thead>\n    <tr style=\"text-align: right;\">\n      <th></th>\n      <th>glucose.scan</th>\n    </tr>\n    <tr>\n      <th>Day</th>\n      <th></th>\n    </tr>\n  </thead>\n  <tbody>\n    <tr>\n      <td>2019-04-25</td>\n      <td>86.0</td>\n    </tr>\n  </tbody>\n</table>\n</div>",
            "text/plain": "            glucose.scan\nDay                     \n2019-04-25          86.0"
          },
          "execution_count": 26,
          "metadata": {},
          "output_type": "execute_result"
        }
      ]
    },
    {
      "metadata": {
        "trusted": false
      },
      "cell_type": "code",
      "source": "dmax = df[(df['Type'] == 1)].groupby('Day').aggregate({'glucose.scan':np.max})",
      "execution_count": 27,
      "outputs": []
    },
    {
      "metadata": {
        "trusted": false
      },
      "cell_type": "code",
      "source": "dmax",
      "execution_count": 21,
      "outputs": [
        {
          "data": {
            "text/html": "<div>\n<style scoped>\n    .dataframe tbody tr th:only-of-type {\n        vertical-align: middle;\n    }\n\n    .dataframe tbody tr th {\n        vertical-align: top;\n    }\n\n    .dataframe thead th {\n        text-align: right;\n    }\n</style>\n<table border=\"1\" class=\"dataframe\">\n  <thead>\n    <tr style=\"text-align: right;\">\n      <th></th>\n      <th>glucose.scan</th>\n    </tr>\n    <tr>\n      <th>Day</th>\n      <th></th>\n    </tr>\n  </thead>\n  <tbody>\n    <tr>\n      <td>2019-04-25</td>\n      <td>184.0</td>\n    </tr>\n  </tbody>\n</table>\n</div>",
            "text/plain": "            glucose.scan\nDay                     \n2019-04-25         184.0"
          },
          "execution_count": 21,
          "metadata": {},
          "output_type": "execute_result"
        }
      ]
    },
    {
      "metadata": {},
      "cell_type": "markdown",
      "source": "## Cleaning typo's\n\nSuppose we want to sum the data in the right_value column. We could use a sum, but we will get an type error, since '53,2' is a string. We cannot simply transfer the data to a float. We need first to set the column as a string type,  replace the ',' by a '.' (in this case done by a regex) and then transfer the column to float type\n\n"
    },
    {
      "metadata": {
        "trusted": false
      },
      "cell_type": "code",
      "source": "df",
      "execution_count": 28,
      "outputs": [
        {
          "data": {
            "text/html": "<div>\n<style scoped>\n    .dataframe tbody tr th:only-of-type {\n        vertical-align: middle;\n    }\n\n    .dataframe tbody tr th {\n        vertical-align: top;\n    }\n\n    .dataframe thead th {\n        text-align: right;\n    }\n</style>\n<table border=\"1\" class=\"dataframe\">\n  <thead>\n    <tr style=\"text-align: right;\">\n      <th></th>\n      <th>Time</th>\n      <th>Type</th>\n      <th>glucose.hist</th>\n      <th>glucose.scan</th>\n      <th>time.previous</th>\n      <th>time.new</th>\n      <th>Day</th>\n    </tr>\n  </thead>\n  <tbody>\n    <tr>\n      <td>0</td>\n      <td>00:08</td>\n      <td>1</td>\n      <td>115.560976</td>\n      <td>109.000000</td>\n      <td>NaN</td>\n      <td>NaN</td>\n      <td>2019-04-25</td>\n    </tr>\n    <tr>\n      <td>1</td>\n      <td>00:50</td>\n      <td>1</td>\n      <td>115.560976</td>\n      <td>123.403846</td>\n      <td>NaN</td>\n      <td>NaN</td>\n      <td>2019-04-25</td>\n    </tr>\n    <tr>\n      <td>2</td>\n      <td>07:02</td>\n      <td>1</td>\n      <td>115.560976</td>\n      <td>123.000000</td>\n      <td>NaN</td>\n      <td>NaN</td>\n      <td>2019-04-25</td>\n    </tr>\n    <tr>\n      <td>3</td>\n      <td>07:34</td>\n      <td>1</td>\n      <td>115.560976</td>\n      <td>158.000000</td>\n      <td>NaN</td>\n      <td>NaN</td>\n      <td>2019-04-25</td>\n    </tr>\n    <tr>\n      <td>4</td>\n      <td>08:19</td>\n      <td>1</td>\n      <td>115.560976</td>\n      <td>123.403846</td>\n      <td>NaN</td>\n      <td>NaN</td>\n      <td>2019-04-25</td>\n    </tr>\n    <tr>\n      <td>...</td>\n      <td>...</td>\n      <td>...</td>\n      <td>...</td>\n      <td>...</td>\n      <td>...</td>\n      <td>...</td>\n      <td>...</td>\n    </tr>\n    <tr>\n      <td>131</td>\n      <td>22:47</td>\n      <td>0</td>\n      <td>108.000000</td>\n      <td>123.403846</td>\n      <td>NaN</td>\n      <td>NaN</td>\n      <td>2019-04-25</td>\n    </tr>\n    <tr>\n      <td>132</td>\n      <td>23:02</td>\n      <td>0</td>\n      <td>123.000000</td>\n      <td>123.403846</td>\n      <td>NaN</td>\n      <td>NaN</td>\n      <td>2019-04-25</td>\n    </tr>\n    <tr>\n      <td>133</td>\n      <td>23:18</td>\n      <td>0</td>\n      <td>109.000000</td>\n      <td>123.403846</td>\n      <td>NaN</td>\n      <td>NaN</td>\n      <td>2019-04-25</td>\n    </tr>\n    <tr>\n      <td>134</td>\n      <td>23:33</td>\n      <td>0</td>\n      <td>108.000000</td>\n      <td>123.403846</td>\n      <td>NaN</td>\n      <td>NaN</td>\n      <td>2019-04-25</td>\n    </tr>\n    <tr>\n      <td>135</td>\n      <td>23:48</td>\n      <td>0</td>\n      <td>110.000000</td>\n      <td>123.403846</td>\n      <td>NaN</td>\n      <td>NaN</td>\n      <td>2019-04-25</td>\n    </tr>\n  </tbody>\n</table>\n<p>136 rows × 7 columns</p>\n</div>",
            "text/plain": "      Time  Type  glucose.hist  glucose.scan  time.previous  time.new  \\\n0    00:08     1    115.560976    109.000000            NaN       NaN   \n1    00:50     1    115.560976    123.403846            NaN       NaN   \n2    07:02     1    115.560976    123.000000            NaN       NaN   \n3    07:34     1    115.560976    158.000000            NaN       NaN   \n4    08:19     1    115.560976    123.403846            NaN       NaN   \n..     ...   ...           ...           ...            ...       ...   \n131  22:47     0    108.000000    123.403846            NaN       NaN   \n132  23:02     0    123.000000    123.403846            NaN       NaN   \n133  23:18     0    109.000000    123.403846            NaN       NaN   \n134  23:33     0    108.000000    123.403846            NaN       NaN   \n135  23:48     0    110.000000    123.403846            NaN       NaN   \n\n            Day  \n0    2019-04-25  \n1    2019-04-25  \n2    2019-04-25  \n3    2019-04-25  \n4    2019-04-25  \n..          ...  \n131  2019-04-25  \n132  2019-04-25  \n133  2019-04-25  \n134  2019-04-25  \n135  2019-04-25  \n\n[136 rows x 7 columns]"
          },
          "execution_count": 28,
          "metadata": {},
          "output_type": "execute_result"
        }
      ]
    },
    {
      "metadata": {},
      "cell_type": "markdown",
      "source": "## Cleaning data example\n\nReview the data below:\n"
    },
    {
      "metadata": {
        "trusted": false
      },
      "cell_type": "code",
      "source": "df = pd.read_excel('data/Energy Indicators.xls') # source: http://unstats.un.org/unsd/environment/excel_file_tables/2013/Energy%20Indicators.xls\ndf.head(20)",
      "execution_count": 31,
      "outputs": [
        {
          "data": {
            "text/html": "<div>\n<style scoped>\n    .dataframe tbody tr th:only-of-type {\n        vertical-align: middle;\n    }\n\n    .dataframe tbody tr th {\n        vertical-align: top;\n    }\n\n    .dataframe thead th {\n        text-align: right;\n    }\n</style>\n<table border=\"1\" class=\"dataframe\">\n  <thead>\n    <tr style=\"text-align: right;\">\n      <th></th>\n      <th>Unnamed: 0</th>\n      <th>Unnamed: 1</th>\n      <th>Unnamed: 2</th>\n      <th>Unnamed: 3</th>\n      <th>Unnamed: 4</th>\n      <th>Unnamed: 5</th>\n    </tr>\n  </thead>\n  <tbody>\n    <tr>\n      <td>0</td>\n      <td>NaN</td>\n      <td>NaN</td>\n      <td>Environmental Indicators: Energy</td>\n      <td>NaN</td>\n      <td>NaN</td>\n      <td>NaN</td>\n    </tr>\n    <tr>\n      <td>1</td>\n      <td>NaN</td>\n      <td>NaN</td>\n      <td>NaN</td>\n      <td>NaN</td>\n      <td>NaN</td>\n      <td>NaN</td>\n    </tr>\n    <tr>\n      <td>2</td>\n      <td>NaN</td>\n      <td>NaN</td>\n      <td>Energy Supply and Renewable Electricity Produc...</td>\n      <td>NaN</td>\n      <td>NaN</td>\n      <td>NaN</td>\n    </tr>\n    <tr>\n      <td>3</td>\n      <td>NaN</td>\n      <td>NaN</td>\n      <td>NaN</td>\n      <td>NaN</td>\n      <td>NaN</td>\n      <td>NaN</td>\n    </tr>\n    <tr>\n      <td>4</td>\n      <td>NaN</td>\n      <td>NaN</td>\n      <td>NaN</td>\n      <td>NaN</td>\n      <td>NaN</td>\n      <td>Last update: December 2015</td>\n    </tr>\n    <tr>\n      <td>5</td>\n      <td>NaN</td>\n      <td>NaN</td>\n      <td>NaN</td>\n      <td>NaN</td>\n      <td>NaN</td>\n      <td>NaN</td>\n    </tr>\n    <tr>\n      <td>6</td>\n      <td>NaN</td>\n      <td>NaN</td>\n      <td>Choose a country from the following drop-down ...</td>\n      <td>NaN</td>\n      <td>NaN</td>\n      <td>Andorra</td>\n    </tr>\n    <tr>\n      <td>7</td>\n      <td>NaN</td>\n      <td>NaN</td>\n      <td>NaN</td>\n      <td>NaN</td>\n      <td>NaN</td>\n      <td>NaN</td>\n    </tr>\n    <tr>\n      <td>8</td>\n      <td>NaN</td>\n      <td>NaN</td>\n      <td>Country</td>\n      <td>Energy Supply</td>\n      <td>Energy Supply per capita</td>\n      <td>Renewable Electricity Production</td>\n    </tr>\n    <tr>\n      <td>9</td>\n      <td>NaN</td>\n      <td>NaN</td>\n      <td>NaN</td>\n      <td>Petajoules</td>\n      <td>Gigajoules</td>\n      <td>%</td>\n    </tr>\n    <tr>\n      <td>10</td>\n      <td>NaN</td>\n      <td>NaN</td>\n      <td>Andorra</td>\n      <td>9</td>\n      <td>121</td>\n      <td>88.6957</td>\n    </tr>\n    <tr>\n      <td>11</td>\n      <td>NaN</td>\n      <td>NaN</td>\n      <td>NaN</td>\n      <td>NaN</td>\n      <td>NaN</td>\n      <td>NaN</td>\n    </tr>\n    <tr>\n      <td>12</td>\n      <td>NaN</td>\n      <td>NaN</td>\n      <td>NaN</td>\n      <td>NaN</td>\n      <td>NaN</td>\n      <td>website: http://unstats.un.org/unsd/ENVIRONMEN...</td>\n    </tr>\n    <tr>\n      <td>13</td>\n      <td>NaN</td>\n      <td>NaN</td>\n      <td>NaN</td>\n      <td>NaN</td>\n      <td>NaN</td>\n      <td>NaN</td>\n    </tr>\n    <tr>\n      <td>14</td>\n      <td>NaN</td>\n      <td>NaN</td>\n      <td>NaN</td>\n      <td>NaN</td>\n      <td>NaN</td>\n      <td>NaN</td>\n    </tr>\n    <tr>\n      <td>15</td>\n      <td>NaN</td>\n      <td>NaN</td>\n      <td>NaN</td>\n      <td>Energy Supply</td>\n      <td>Energy Supply per capita</td>\n      <td>Renewable Electricity Production</td>\n    </tr>\n    <tr>\n      <td>16</td>\n      <td>NaN</td>\n      <td>NaN</td>\n      <td>NaN</td>\n      <td>Petajoules</td>\n      <td>Gigajoules</td>\n      <td>%</td>\n    </tr>\n    <tr>\n      <td>17</td>\n      <td>NaN</td>\n      <td>Afghanistan</td>\n      <td>Afghanistan</td>\n      <td>321</td>\n      <td>10</td>\n      <td>78.6693</td>\n    </tr>\n    <tr>\n      <td>18</td>\n      <td>NaN</td>\n      <td>Albania</td>\n      <td>Albania</td>\n      <td>102</td>\n      <td>35</td>\n      <td>100</td>\n    </tr>\n    <tr>\n      <td>19</td>\n      <td>NaN</td>\n      <td>Algeria</td>\n      <td>Algeria</td>\n      <td>1959</td>\n      <td>51</td>\n      <td>0.55101</td>\n    </tr>\n  </tbody>\n</table>\n</div>",
            "text/plain": "    Unnamed: 0   Unnamed: 1  \\\n0          NaN          NaN   \n1          NaN          NaN   \n2          NaN          NaN   \n3          NaN          NaN   \n4          NaN          NaN   \n5          NaN          NaN   \n6          NaN          NaN   \n7          NaN          NaN   \n8          NaN          NaN   \n9          NaN          NaN   \n10         NaN          NaN   \n11         NaN          NaN   \n12         NaN          NaN   \n13         NaN          NaN   \n14         NaN          NaN   \n15         NaN          NaN   \n16         NaN          NaN   \n17         NaN  Afghanistan   \n18         NaN      Albania   \n19         NaN      Algeria   \n\n                                           Unnamed: 2     Unnamed: 3  \\\n0                    Environmental Indicators: Energy            NaN   \n1                                                 NaN            NaN   \n2   Energy Supply and Renewable Electricity Produc...            NaN   \n3                                                 NaN            NaN   \n4                                                 NaN            NaN   \n5                                                 NaN            NaN   \n6   Choose a country from the following drop-down ...            NaN   \n7                                                 NaN            NaN   \n8                                             Country  Energy Supply   \n9                                                 NaN     Petajoules   \n10                                            Andorra              9   \n11                                                NaN            NaN   \n12                                                NaN            NaN   \n13                                                NaN            NaN   \n14                                                NaN            NaN   \n15                                                NaN  Energy Supply   \n16                                                NaN     Petajoules   \n17                                        Afghanistan            321   \n18                                            Albania            102   \n19                                            Algeria           1959   \n\n                  Unnamed: 4  \\\n0                        NaN   \n1                        NaN   \n2                        NaN   \n3                        NaN   \n4                        NaN   \n5                        NaN   \n6                        NaN   \n7                        NaN   \n8   Energy Supply per capita   \n9                 Gigajoules   \n10                       121   \n11                       NaN   \n12                       NaN   \n13                       NaN   \n14                       NaN   \n15  Energy Supply per capita   \n16                Gigajoules   \n17                        10   \n18                        35   \n19                        51   \n\n                                           Unnamed: 5  \n0                                                 NaN  \n1                                                 NaN  \n2                                                 NaN  \n3                                                 NaN  \n4                          Last update: December 2015  \n5                                                 NaN  \n6                                             Andorra  \n7                                                 NaN  \n8                    Renewable Electricity Production  \n9                                                   %  \n10                                            88.6957  \n11                                                NaN  \n12  website: http://unstats.un.org/unsd/ENVIRONMEN...  \n13                                                NaN  \n14                                                NaN  \n15                   Renewable Electricity Production  \n16                                                  %  \n17                                            78.6693  \n18                                                100  \n19                                            0.55101  "
          },
          "execution_count": 31,
          "metadata": {},
          "output_type": "execute_result"
        }
      ]
    },
    {
      "metadata": {},
      "cell_type": "markdown",
      "source": "In the example above we can see that data of the file 'Energy indicators' need to be cleaned. The first two columns do not have added value, they can be removed. The column labels need to be replaced. The first 15 rows are headers basically, we can skip these. The `Energy Supply` column is convert to gigajoules (there are 1,000,000 gigajoules in a petajoule). For all countries which have missing data (e.g. data with \"...\") we need to fill that with `np.NaN` values. Lastly some of the country names are renamed for merge purpose (source: University of Michigan)"
    },
    {
      "metadata": {
        "trusted": false
      },
      "cell_type": "code",
      "source": "def clean_energy_data():\n    import pandas as pd\n    import numpy as np\n\n    # Clean energy \n    energy = (pd.read_excel('data/Energy Indicators.xls') # load Energy Indicator excelsheet into dataframe\n                    .iloc[17:243].drop(['Unnamed: 0', 'Unnamed: 1'], axis=1) #drop first 16 rows\n                    .rename(columns = {\n                         'Unnamed: 2':'Country',\n                         'Unnamed: 3':'Energy Supply',\n                         'Unnamed: 4':'Energy Supply per Capita',\n                         'Unnamed: 5':'% Renewable'})\n                    .replace(to_replace='...', value=np.NaN)) #convert '...' to np.NaN\n\n    energy['Energy Supply']*= 1000000 #Convert Energy Supply to gigajoules \n    energy['Country'] = (energy['Country'].str.replace(r\"Republic of Korea\",\"South Korea\")\n                                          .str.replace(r\"United States of America\",\"United States\")\n                                          .str.replace(r\"United Kingdom of Great Britain and Northern Ireland\", \"United Kingdom\")\n                                          .str.replace(r\"China, Hong Kong Special Administrative Region\", \"Hong Kong\")\n                                          .str.replace(r\"\\s\\([a-zA-Z\\s]+\\)\", \"\") # remove parenthesis from countrynames\n                                          .str.replace(r\"[0-9]+\", \"\"))# remove numbers from countryname\n\n    return energy\n\n\ndf_energy = clean_energy_data()\ndf_energy.head()",
      "execution_count": 36,
      "outputs": [
        {
          "data": {
            "text/html": "<div>\n<style scoped>\n    .dataframe tbody tr th:only-of-type {\n        vertical-align: middle;\n    }\n\n    .dataframe tbody tr th {\n        vertical-align: top;\n    }\n\n    .dataframe thead th {\n        text-align: right;\n    }\n</style>\n<table border=\"1\" class=\"dataframe\">\n  <thead>\n    <tr style=\"text-align: right;\">\n      <th></th>\n      <th>Country</th>\n      <th>Energy Supply</th>\n      <th>Energy Supply per Capita</th>\n      <th>% Renewable</th>\n    </tr>\n  </thead>\n  <tbody>\n    <tr>\n      <td>17</td>\n      <td>Afghanistan</td>\n      <td>3.210000e+08</td>\n      <td>10.0</td>\n      <td>78.669280</td>\n    </tr>\n    <tr>\n      <td>18</td>\n      <td>Albania</td>\n      <td>1.020000e+08</td>\n      <td>35.0</td>\n      <td>100.000000</td>\n    </tr>\n    <tr>\n      <td>19</td>\n      <td>Algeria</td>\n      <td>1.959000e+09</td>\n      <td>51.0</td>\n      <td>0.551010</td>\n    </tr>\n    <tr>\n      <td>20</td>\n      <td>American Samoa</td>\n      <td>NaN</td>\n      <td>NaN</td>\n      <td>0.641026</td>\n    </tr>\n    <tr>\n      <td>21</td>\n      <td>Andorra</td>\n      <td>9.000000e+06</td>\n      <td>121.0</td>\n      <td>88.695650</td>\n    </tr>\n  </tbody>\n</table>\n</div>",
            "text/plain": "           Country  Energy Supply  Energy Supply per Capita  % Renewable\n17     Afghanistan   3.210000e+08                      10.0    78.669280\n18         Albania   1.020000e+08                      35.0   100.000000\n19         Algeria   1.959000e+09                      51.0     0.551010\n20  American Samoa            NaN                       NaN     0.641026\n21         Andorra   9.000000e+06                     121.0    88.695650"
          },
          "execution_count": 36,
          "metadata": {},
          "output_type": "execute_result"
        }
      ]
    }
  ],
  "metadata": {
    "kernelspec": {
      "name": "python3",
      "display_name": "Python 3",
      "language": "python"
    },
    "language_info": {
      "mimetype": "text/x-python",
      "nbconvert_exporter": "python",
      "name": "python",
      "file_extension": ".py",
      "version": "3.5.4",
      "pygments_lexer": "ipython3",
      "codemirror_mode": {
        "version": 3,
        "name": "ipython"
      }
    }
  },
  "nbformat": 4,
  "nbformat_minor": 2
}