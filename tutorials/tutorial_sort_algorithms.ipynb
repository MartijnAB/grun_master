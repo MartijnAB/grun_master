{
 "cells": [
  {
   "cell_type": "markdown",
   "metadata": {},
   "source": [
    "# Sorting Algorithms\n",
    "\n",
    "python sort is an in-place sort. "
   ]
  },
  {
   "cell_type": "code",
   "execution_count": null,
   "metadata": {},
   "outputs": [],
   "source": [
    "import numpy as np\n",
    "\n",
    "arr = np.random.randn(3,5)\n",
    "print(arr)\n",
    "arr.sort()\n",
    "print(arr)"
   ]
  },
  {
   "cell_type": "code",
   "execution_count": null,
   "metadata": {},
   "outputs": [],
   "source": [
    "arr[:,0].sort() # sort first collumn values in-place\n",
    "arr"
   ]
  },
  {
   "cell_type": "code",
   "execution_count": null,
   "metadata": {},
   "outputs": [],
   "source": [
    "arr = np.random.randn(3,5)\n",
    "print(arr)\n",
    "print('sorted on row')\n",
    "arr.sort(axis=1) #sort row\n",
    "print(arr)\n",
    "print('sorted on collumn')\n",
    "arr.sort(axis=0)#sort column\n",
    "print(arr)"
   ]
  },
  {
   "cell_type": "code",
   "execution_count": null,
   "metadata": {},
   "outputs": [],
   "source": [
    "# no descending option. need to be done by trick\n",
    "arr = arr[:, ::-1]\n",
    "arr"
   ]
  },
  {
   "cell_type": "markdown",
   "metadata": {},
   "source": [
    "If I do not want to inplace I can use np.sort and the arr as an input, it creates a new sorted copy"
   ]
  },
  {
   "cell_type": "code",
   "execution_count": null,
   "metadata": {},
   "outputs": [],
   "source": [
    "arr = np.random.randn(5)\n",
    "print(arr)\n",
    "print(np.sort(arr))\n",
    "print(arr)"
   ]
  },
  {
   "cell_type": "markdown",
   "metadata": {},
   "source": [
    "## Indirect Sort\n",
    "\n",
    "In data analysis you may need to reorder datasets by one ore more keys. Given a key you wish to obtain an array of indices (pointers to element location). There are two methods for this `argsort` and `np.lexsort`"
   ]
  },
  {
   "cell_type": "code",
   "execution_count": null,
   "metadata": {},
   "outputs": [],
   "source": [
    "values = np.array([5,0,1,3,2])\n",
    "indexer = values.argsort()\n",
    "indexer"
   ]
  },
  {
   "cell_type": "code",
   "execution_count": null,
   "metadata": {},
   "outputs": [],
   "source": [
    "values[indexer]"
   ]
  },
  {
   "cell_type": "code",
   "execution_count": null,
   "metadata": {},
   "outputs": [],
   "source": [
    "firstname = np.array(['Eli', 'Fenna', 'Bart', 'Dave'])\n",
    "lastname = np.array(['Alberts', 'Feenstra', 'Barnard', 'Langers'])\n",
    "sorter = np.lexsort((firstname, lastname))\n",
    "sorter"
   ]
  },
  {
   "cell_type": "code",
   "execution_count": null,
   "metadata": {
    "scrolled": true
   },
   "outputs": [],
   "source": [
    "list(zip(lastname[sorter],firstname[sorter]))"
   ]
  },
  {
   "cell_type": "markdown",
   "metadata": {},
   "source": [
    "## Alternative Sort Algorithms\n",
    "\n",
    "There are many kind of sorting algoritms. See https://en.wikipedia.org/wiki/Sorting_algorithm for an overview. Numpy supports only the fastest ones. a visual representation is https://www.youtube.com/watch?v=kPRA0W1kECg and a nice explanation is https://www.youtube.com/watch?v=kgBjXUE_Nwc"
   ]
  },
  {
   "cell_type": "code",
   "execution_count": null,
   "metadata": {},
   "outputs": [],
   "source": [
    "np.argsort?"
   ]
  },
  {
   "cell_type": "code",
   "execution_count": null,
   "metadata": {},
   "outputs": [],
   "source": [
    "np.sort?"
   ]
  },
  {
   "cell_type": "code",
   "execution_count": null,
   "metadata": {},
   "outputs": [],
   "source": [
    "np.searchsorted? #find the required insertion points"
   ]
  },
  {
   "cell_type": "code",
   "execution_count": null,
   "metadata": {},
   "outputs": [],
   "source": [
    "import pandas as pd\n",
    "\n",
    "data = np.floor(np.random.uniform(0,10000, size =50))\n",
    "print(data)\n",
    "bins = np.array([0, 100, 1000, 5000, 10000])\n",
    "#use searchsorted to label\n",
    "labels = bins.searchsorted(data)\n",
    "print(labels)\n",
    "\n",
    "pd.Series(data).groupby(labels).mean()"
   ]
  },
  {
   "cell_type": "markdown",
   "metadata": {},
   "source": [
    "It is possible to program your own sort algoritms. Below you find some examples. See also https://github.com/TheAlgorithms/Python/tree/master/sorts"
   ]
  },
  {
   "cell_type": "code",
   "execution_count": null,
   "metadata": {},
   "outputs": [],
   "source": [
    "\"\"\"\n",
    "This is a pure python implementation of the insertion sort algorithm\n",
    "\"\"\"\n",
    "\n",
    "def insertion_sort(collection):\n",
    "    \"\"\"Pure implementation of the insertion sort algorithm in Python\n",
    "    :param collection: some mutable ordered collection with heterogeneous\n",
    "    comparable items inside\n",
    "    :return: the same collection ordered by ascending\n",
    "    Examples:\n",
    "    >>> insertion_sort([0, 5, 3, 2, 2])\n",
    "    [0, 2, 2, 3, 5]\n",
    "    >>> insertion_sort([])\n",
    "    []\n",
    "    >>> insertion_sort([-2, -5, -45])\n",
    "    [-45, -5, -2]\n",
    "    \"\"\"\n",
    "\n",
    "    for loop_index in range(1, len(collection)):\n",
    "        i = loop_index\n",
    "        while i > 0 and collection[i - 1] > collection[i]:\n",
    "            collection[i], collection[i - 1] = collection[i - 1], collection[i]\n",
    "            i -= 1\n",
    "\n",
    "    return collection\n",
    "\n",
    "\n",
    "if __name__ == '__main__':\n",
    "\n",
    "    user_input = input('Enter numbers separated by a comma:\\n').strip()\n",
    "    unsorted = [int(item) for item in user_input.split(',')]\n",
    "    print(insertion_sort(unsorted))\n",
    " "
   ]
  },
  {
   "cell_type": "code",
   "execution_count": null,
   "metadata": {},
   "outputs": [],
   "source": [
    "'''\n",
    "Python implementation of the fastest merge sort algorithm.\n",
    "Best Case Scenario : O(n)\n",
    "Worst Case Scenario : O(n^2) because native python functions:min, max and remove are already O(n)\n",
    "'''\n",
    "\n",
    "\n",
    "def merge_sort(collection):\n",
    "    \"\"\"Pure implementation of the fastest merge sort algorithm in Python\n",
    "    \"\"\"\n",
    "    start, end = [], []\n",
    "    while len(collection) > 1:\n",
    "        min_one, max_one = min(collection), max(collection)\n",
    "        start.append(min_one)\n",
    "        end.append(max_one)\n",
    "        collection.remove(min_one)\n",
    "        collection.remove(max_one)\n",
    "    end.reverse()\n",
    "    return start + collection + end\n",
    "\n",
    "\n",
    "if __name__ == '__main__':\n",
    "    user_input = input('Enter numbers separated by a comma:\\n').strip()\n",
    "    unsorted = [int(item) for item in user_input.split(',')]\n",
    "    print(*merge_sort(unsorted), sep=',')"
   ]
  },
  {
   "cell_type": "code",
   "execution_count": null,
   "metadata": {},
   "outputs": [],
   "source": [
    "'''\n",
    "This is a pure python implementation of the heap sort algorithm.\n",
    "'''\n",
    "\n",
    "def heapify(unsorted, index, heap_size):\n",
    "    largest = index\n",
    "    left_index = 2 * index + 1\n",
    "    right_index = 2 * index + 2\n",
    "    if left_index < heap_size and unsorted[left_index] > unsorted[largest]:\n",
    "        largest = left_index\n",
    "\n",
    "    if right_index < heap_size and unsorted[right_index] > unsorted[largest]:\n",
    "        largest = right_index\n",
    "\n",
    "    if largest != index:\n",
    "        unsorted[largest], unsorted[index] = unsorted[index], unsorted[largest]\n",
    "        heapify(unsorted, largest, heap_size)\n",
    "\n",
    "\n",
    "def heap_sort(unsorted):\n",
    "    '''\n",
    "    Pure implementation of the heap sort algorithm in Python\n",
    "    ''' \n",
    "    n = len(unsorted)\n",
    "    for i in range(n // 2 - 1, -1, -1):\n",
    "        heapify(unsorted, i, n)\n",
    "    for i in range(n - 1, 0, -1):\n",
    "        unsorted[0], unsorted[i] = unsorted[i], unsorted[0]\n",
    "        heapify(unsorted, 0, i)\n",
    "    return unsorted\n",
    "\n",
    "if __name__ == '__main__':\n",
    "    user_input = input('Enter numbers separated by a comma:\\n').strip()\n",
    "    unsorted = [int(item) for item in user_input.split(',')]\n",
    "    print(heap_sort(unsorted))"
   ]
  },
  {
   "cell_type": "code",
   "execution_count": null,
   "metadata": {},
   "outputs": [],
   "source": [
    "\"\"\"\n",
    "This is a pure python implementation of the quick sort algorithm\n",
    "\"\"\"\n",
    "\n",
    "def quick_sort(collection):\n",
    "    \"\"\"Pure implementation of quick sort algorithm in Python\n",
    "    :param collection: some mutable ordered collection with heterogeneous\n",
    "    comparable items inside\n",
    "    :return: the same collection ordered by ascending\n",
    "    Examples:\n",
    "    >>> quick_sort([0, 5, 3, 2, 2])\n",
    "    [0, 2, 2, 3, 5]\n",
    "    >>> quick_sort([])\n",
    "    []\n",
    "    >>> quick_sort([-2, -5, -45])\n",
    "    [-45, -5, -2]\n",
    "    \"\"\"\n",
    "    length = len(collection)\n",
    "    if length <= 1:\n",
    "        return collection\n",
    "    else:\n",
    "        pivot = collection[0]\n",
    "        # Modify the list comprehensions to reduce the number of judgments, the speed has increased by more than 50%.\n",
    "        greater = []\n",
    "        lesser = []\n",
    "        for element in collection[1:]:\n",
    "            if element > pivot:\n",
    "                greater.append(element)\n",
    "            else:\n",
    "                lesser.append(element)\n",
    "        # greater = [element for element in collection[1:] if element > pivot]\n",
    "        # lesser = [element for element in collection[1:] if element <= pivot]\n",
    "        return quick_sort(lesser) + [pivot] + quick_sort(greater)\n",
    "\n",
    "\n",
    "if __name__ == '__main__':\n",
    "    user_input = input('Enter numbers separated by a comma:\\n').strip()\n",
    "    unsorted = [ int(item) for item in user_input.split(',') ]\n",
    "    print( quick_sort(unsorted) )"
   ]
  }
 ],
 "metadata": {
  "kernelspec": {
   "display_name": "Python 3",
   "language": "python",
   "name": "python3"
  },
  "language_info": {
   "codemirror_mode": {
    "name": "ipython",
    "version": 3
   },
   "file_extension": ".py",
   "mimetype": "text/x-python",
   "name": "python",
   "nbconvert_exporter": "python",
   "pygments_lexer": "ipython3",
   "version": "3.7.4"
  }
 },
 "nbformat": 4,
 "nbformat_minor": 2
}
