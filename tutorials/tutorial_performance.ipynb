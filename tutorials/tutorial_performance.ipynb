{
  "cells": [
    {
      "metadata": {
        "trusted": true
      },
      "cell_type": "code",
      "source": "import numpy as np\n\nx = np.arange(10000)\n%timeit x + 1",
      "execution_count": 3,
      "outputs": [
        {
          "output_type": "stream",
          "text": "15.8 µs ± 1.19 µs per loop (mean ± std. dev. of 7 runs, 100000 loops each)\n",
          "name": "stdout"
        }
      ]
    },
    {
      "metadata": {
        "trusted": true
      },
      "cell_type": "code",
      "source": "y = range(10000)\n%timeit [i + 1 for i in y]\n",
      "execution_count": 5,
      "outputs": [
        {
          "output_type": "stream",
          "text": "1.91 ms ± 152 µs per loop (mean ± std. dev. of 7 runs, 1000 loops each)\n",
          "name": "stdout"
        }
      ]
    },
    {
      "metadata": {
        "trusted": true
      },
      "cell_type": "code",
      "source": "\ndef test(y):\n    for i in y:\n        i + 1\n        \n%timeit test(y)\n",
      "execution_count": 10,
      "outputs": [
        {
          "output_type": "stream",
          "text": "1.26 ms ± 79.2 µs per loop (mean ± std. dev. of 7 runs, 1000 loops each)\n",
          "name": "stdout"
        }
      ]
    },
    {
      "metadata": {
        "trusted": true
      },
      "cell_type": "code",
      "source": "",
      "execution_count": null,
      "outputs": []
    }
  ],
  "metadata": {
    "kernelspec": {
      "name": "python36",
      "display_name": "Python 3.6",
      "language": "python"
    },
    "language_info": {
      "mimetype": "text/x-python",
      "nbconvert_exporter": "python",
      "name": "python",
      "pygments_lexer": "ipython3",
      "version": "3.6.6",
      "file_extension": ".py",
      "codemirror_mode": {
        "version": 3,
        "name": "ipython"
      }
    }
  },
  "nbformat": 4,
  "nbformat_minor": 2
}