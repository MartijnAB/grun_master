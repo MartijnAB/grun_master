{
  "cells": [
    {
      "metadata": {},
      "cell_type": "markdown",
      "source": "# json\n\nThe JSON format was inspired by the object and array format used in the JavaScript language. But since Python was invented before JavaScript, Python’s syntax for dictionaries and lists influenced the syntax of JSON. So the format of JSON is nearly identical to a combination of Python lists and dictionaries.\nHere is a JSON encoding that is roughly equivalent to the simple XML format:"
    },
    {
      "metadata": {},
      "cell_type": "markdown",
      "source": "JSON\n\nJavaScript Object Notation\n\n    {\"menu\": {\n      \"id\": \"file\",\n      \"value\": \"File\",\n      \"popup\": {\n        \"menuitem\": [\n          {\"value\": \"New\", \"onclick\": \"CreateNewDoc()\"},\n          {\"value\": \"Open\", \"onclick\": \"OpenDoc()\"},\n          {\"value\": \"Close\", \"onclick\": \"CloseDoc()\"}\n        ]\n      }\n    }}\n    \n\n\nUsing Python\nhttps://docs.python.org/3.6/library/json.html"
    },
    {
      "metadata": {},
      "cell_type": "markdown",
      "source": "a JSON object looks like a dictionary. It can have a dictionary as a value, and this can lead to a dictionary in a dictionary tree. It is derived from Javascript in which an object is described like a dictionary. "
    },
    {
      "metadata": {
        "scrolled": true,
        "trusted": true
      },
      "cell_type": "code",
      "source": "import json\nf = open('sample.json')\ndata = json.load(f)\n# What does this look like?\ndata",
      "execution_count": 47,
      "outputs": [
        {
          "output_type": "execute_result",
          "execution_count": 47,
          "data": {
            "text/plain": "{'hits': [{'_id': '8660',\n   '_score': 5.9047804,\n   'entrezgene': '8660',\n   'name': 'insulin receptor substrate 2',\n   'symbol': 'IRS2',\n   'taxid': 9606},\n  {'_id': '3667',\n   '_score': 5.812647,\n   'entrezgene': '3667',\n   'name': 'insulin receptor substrate 1',\n   'symbol': 'IRS1',\n   'taxid': 9606},\n  {'_id': '3643',\n   '_score': 5.759741,\n   'entrezgene': '3643',\n   'name': 'insulin receptor',\n   'symbol': 'INSR',\n   'taxid': 9606},\n  {'_id': '10580',\n   '_score': 5.6254673,\n   'entrezgene': '10580',\n   'name': 'sorbin and SH3 domain containing 1',\n   'symbol': 'SORBS1',\n   'taxid': 9606},\n  {'_id': '8471',\n   '_score': 5.5908923,\n   'entrezgene': '8471',\n   'name': 'insulin receptor substrate 4',\n   'symbol': 'IRS4',\n   'taxid': 9606},\n  {'_id': '60676',\n   '_score': 5.443571,\n   'entrezgene': '60676',\n   'name': 'pappalysin 2',\n   'symbol': 'PAPPA2',\n   'taxid': 9606},\n  {'_id': '3630',\n   '_score': 5.4403577,\n   'entrezgene': '3630',\n   'name': 'insulin',\n   'symbol': 'INS',\n   'taxid': 9606},\n  {'_id': '6517',\n   '_score': 5.3434577,\n   'entrezgene': '6517',\n   'name': 'solute carrier family 2 member 4',\n   'symbol': 'SLC2A4',\n   'taxid': 9606},\n  {'_id': '10000',\n   '_score': 5.3161077,\n   'entrezgene': '10000',\n   'name': 'AKT serine/threonine kinase 3',\n   'symbol': 'AKT3',\n   'taxid': 9606},\n  {'_id': '3651',\n   '_score': 5.288981,\n   'entrezgene': '3651',\n   'name': 'pancreatic and duodenal homeobox 1',\n   'symbol': 'PDX1',\n   'taxid': 9606}],\n 'max_score': 5.9047804,\n 'took': 47,\n 'total': 288}"
          },
          "metadata": {}
        }
      ]
    },
    {
      "metadata": {
        "trusted": true,
        "scrolled": true
      },
      "cell_type": "code",
      "source": "# Need to see what's available on the main branche\nprint(data.keys())\n",
      "execution_count": 62,
      "outputs": [
        {
          "output_type": "stream",
          "text": "dict_keys(['max_score', 'hits', 'took', 'total'])\n",
          "name": "stdout"
        }
      ]
    },
    {
      "metadata": {},
      "cell_type": "markdown",
      "source": "we can easily parse the data in a pandas dataframe"
    },
    {
      "metadata": {
        "trusted": true
      },
      "cell_type": "code",
      "source": "# see what is available on the hits branche\na = data['hits'][0]\nprint(a.keys())\n    ",
      "execution_count": 65,
      "outputs": [
        {
          "output_type": "stream",
          "text": "dict_keys(['name', '_id', '_score', 'entrezgene', 'taxid', 'symbol'])\n",
          "name": "stdout"
        }
      ]
    },
    {
      "metadata": {
        "trusted": true
      },
      "cell_type": "code",
      "source": "import pandas as pd\ndf_data = pd.DataFrame.from_dict(data['hits'])",
      "execution_count": 34,
      "outputs": []
    },
    {
      "metadata": {
        "scrolled": true,
        "trusted": false
      },
      "cell_type": "code",
      "source": "df_data\n",
      "execution_count": 4,
      "outputs": [
        {
          "data": {
            "text/html": "<div>\n<style scoped>\n    .dataframe tbody tr th:only-of-type {\n        vertical-align: middle;\n    }\n\n    .dataframe tbody tr th {\n        vertical-align: top;\n    }\n\n    .dataframe thead th {\n        text-align: right;\n    }\n</style>\n<table border=\"1\" class=\"dataframe\">\n  <thead>\n    <tr style=\"text-align: right;\">\n      <th></th>\n      <th>_id</th>\n      <th>_score</th>\n      <th>entrezgene</th>\n      <th>name</th>\n      <th>symbol</th>\n      <th>taxid</th>\n    </tr>\n  </thead>\n  <tbody>\n    <tr>\n      <th>0</th>\n      <td>8660</td>\n      <td>5.904780</td>\n      <td>8660</td>\n      <td>insulin receptor substrate 2</td>\n      <td>IRS2</td>\n      <td>9606</td>\n    </tr>\n    <tr>\n      <th>1</th>\n      <td>3667</td>\n      <td>5.812647</td>\n      <td>3667</td>\n      <td>insulin receptor substrate 1</td>\n      <td>IRS1</td>\n      <td>9606</td>\n    </tr>\n    <tr>\n      <th>2</th>\n      <td>3643</td>\n      <td>5.759741</td>\n      <td>3643</td>\n      <td>insulin receptor</td>\n      <td>INSR</td>\n      <td>9606</td>\n    </tr>\n    <tr>\n      <th>3</th>\n      <td>10580</td>\n      <td>5.625467</td>\n      <td>10580</td>\n      <td>sorbin and SH3 domain containing 1</td>\n      <td>SORBS1</td>\n      <td>9606</td>\n    </tr>\n    <tr>\n      <th>4</th>\n      <td>8471</td>\n      <td>5.590892</td>\n      <td>8471</td>\n      <td>insulin receptor substrate 4</td>\n      <td>IRS4</td>\n      <td>9606</td>\n    </tr>\n    <tr>\n      <th>5</th>\n      <td>60676</td>\n      <td>5.443571</td>\n      <td>60676</td>\n      <td>pappalysin 2</td>\n      <td>PAPPA2</td>\n      <td>9606</td>\n    </tr>\n    <tr>\n      <th>6</th>\n      <td>3630</td>\n      <td>5.440358</td>\n      <td>3630</td>\n      <td>insulin</td>\n      <td>INS</td>\n      <td>9606</td>\n    </tr>\n    <tr>\n      <th>7</th>\n      <td>6517</td>\n      <td>5.343458</td>\n      <td>6517</td>\n      <td>solute carrier family 2 member 4</td>\n      <td>SLC2A4</td>\n      <td>9606</td>\n    </tr>\n    <tr>\n      <th>8</th>\n      <td>10000</td>\n      <td>5.316108</td>\n      <td>10000</td>\n      <td>AKT serine/threonine kinase 3</td>\n      <td>AKT3</td>\n      <td>9606</td>\n    </tr>\n    <tr>\n      <th>9</th>\n      <td>3651</td>\n      <td>5.288981</td>\n      <td>3651</td>\n      <td>pancreatic and duodenal homeobox 1</td>\n      <td>PDX1</td>\n      <td>9606</td>\n    </tr>\n  </tbody>\n</table>\n</div>",
            "text/plain": "     _id    _score entrezgene                                name  symbol  \\\n0   8660  5.904780       8660        insulin receptor substrate 2    IRS2   \n1   3667  5.812647       3667        insulin receptor substrate 1    IRS1   \n2   3643  5.759741       3643                    insulin receptor    INSR   \n3  10580  5.625467      10580  sorbin and SH3 domain containing 1  SORBS1   \n4   8471  5.590892       8471        insulin receptor substrate 4    IRS4   \n5  60676  5.443571      60676                        pappalysin 2  PAPPA2   \n6   3630  5.440358       3630                             insulin     INS   \n7   6517  5.343458       6517    solute carrier family 2 member 4  SLC2A4   \n8  10000  5.316108      10000       AKT serine/threonine kinase 3    AKT3   \n9   3651  5.288981       3651  pancreatic and duodenal homeobox 1    PDX1   \n\n   taxid  \n0   9606  \n1   9606  \n2   9606  \n3   9606  \n4   9606  \n5   9606  \n6   9606  \n7   9606  \n8   9606  \n9   9606  "
          },
          "execution_count": 4,
          "metadata": {},
          "output_type": "execute_result"
        }
      ]
    },
    {
      "metadata": {
        "trusted": true
      },
      "cell_type": "code",
      "source": "print(df_data.dtypes)\n## outoutting to json",
      "execution_count": 16,
      "outputs": [
        {
          "output_type": "stream",
          "text": "_id            object\n_score        float64\nentrezgene     object\nname           object\nsymbol         object\ntaxid           int64\ndtype: object\n",
          "name": "stdout"
        }
      ]
    },
    {
      "metadata": {},
      "cell_type": "markdown",
      "source": "But we can also define a json object and write it to a json file"
    },
    {
      "metadata": {
        "trusted": false
      },
      "cell_type": "code",
      "source": "data = {\"menu\": {\n  \"id\": \"file\",\n  \"value\": \"File\",\n  \"popup\": {\n    \"menuitem\": [\n      {\"value\": \"New\", \"onclick\": \"CreateNewDoc()\"},\n      {\"value\": \"Open\", \"onclick\": \"OpenDoc()\"},\n      {\"value\": \"Close\", \"onclick\": \"CloseDoc()\"}\n    ]\n  }\n}}\n\nwith open('output.json', 'w') as f:\n    json.dump(data, f)",
      "execution_count": null,
      "outputs": []
    },
    {
      "metadata": {},
      "cell_type": "markdown",
      "source": "we can use https://jsonlint.com to validate the output"
    },
    {
      "metadata": {},
      "cell_type": "markdown",
      "source": "https://pandas.pydata.org/pandas-docs/stable/reference/api/pandas.DataFrame.to_json.html"
    },
    {
      "metadata": {},
      "cell_type": "markdown",
      "source": "Mind you if you want to write a dataframe to a json object you need to think about the orientation"
    },
    {
      "metadata": {
        "trusted": false
      },
      "cell_type": "code",
      "source": "data = df_data.to_json(orient='records')\ndata",
      "execution_count": null,
      "outputs": []
    },
    {
      "metadata": {
        "trusted": false
      },
      "cell_type": "code",
      "source": "with open('output.json', 'w') as f:\n    json.dump(data, f)",
      "execution_count": null,
      "outputs": []
    }
  ],
  "metadata": {
    "kernelspec": {
      "name": "python3",
      "display_name": "Python 3",
      "language": "python"
    },
    "language_info": {
      "mimetype": "text/x-python",
      "nbconvert_exporter": "python",
      "name": "python",
      "pygments_lexer": "ipython3",
      "version": "3.5.4",
      "file_extension": ".py",
      "codemirror_mode": {
        "version": 3,
        "name": "ipython"
      }
    }
  },
  "nbformat": 4,
  "nbformat_minor": 2
}