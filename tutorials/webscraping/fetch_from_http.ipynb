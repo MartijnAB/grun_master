{
  "cells": [
    {
      "metadata": {},
      "cell_type": "markdown",
      "source": "# Retrieving from HTTP"
    },
    {
      "metadata": {},
      "cell_type": "markdown",
      "source": "Based on py4e.com\n\nThe network protocol that powers the web is actually quite simple and there is built-in support in Python called **sockets** which makes it very easy to make network connections and retrieve data over those sockets in a Python program. \nA socket is much like a file, except that a single socket provides a two-way connection between two programs. You can both read from and write to the same socket. If you write something to a socket, it is sent to the application at the other end of the socket. If you read from the socket, you are given the data which the other application has sent.\nBut if you try to read a socket when the program on the other end of the socket has not sent any data, you just sit and wait. If the programs on both ends of the socket simply wait for some data without sending anything, they will wait for a very long time, so an important part of programs that communicate over the Internet is to have some sort of protocol. \n\nThe HyperText Transfer Protocol is described in the following document: https://www.w3.org/Protocols/rfc2616/rfc2616.txt. For example to request a document from a the web server bioinf.nl , we make a connection to the bioinf.nl server on port 80, and then send a line of the form\n\n    GET https://bioinf.nl/~fennaf/poem.txt HTTP/1.0\\r\\n\\r\\n'\n\nThe HTTP protocol says we must send the GET command followed by a blank line. `\\r\\n` signifies an EOL (end of line), so `\\r\\n\\r\\n` signifies nothing between two EOL sequences. That is the equivalent of a blank line. Since the internet does not speak 'unicode' but needs UTF-8 coded strings we use the method `.encode()` to encode the get command into a UTF-8 readable format for the server. (Which is more efficient to process)\n\n"
    },
    {
      "metadata": {},
      "cell_type": "markdown",
      "source": "Once Once we send that blank line, we write a loop that receives data in 512-character chunks from the socket and prints the data out until there is no more data to read (i.e., the `recv()` returns an empty string). To make it a string in python we need to decode the data from UTF-8 to unicode using the method `.decode()`. When finished we can close the socket. "
    },
    {
      "metadata": {
        "trusted": true
      },
      "cell_type": "code",
      "source": "import socket\n\nmysock = socket.socket(socket.AF_INET, socket.SOCK_STREAM)\nmysock.connect(('bioinf.nl', 80))\ncmd = 'GET https://bioinf.nl/~fennaf/poem.txt HTTP/1.0\\r\\n\\r\\n'.encode()\nmysock.send(cmd)\n\nwhile True:\n    data = mysock.recv(512)\n    if len(data) < 1:\n        break\n    print(data.decode(),end='')\n\nmysock.close()\n",
      "execution_count": 1,
      "outputs": [
        {
          "output_type": "stream",
          "text": "HTTP/1.1 200 OK\r\nDate: Thu, 21 Nov 2019 13:43:42 GMT\r\nServer: Apache/2.4.38 (Debian)\r\nUpgrade: h2,h2c\r\nConnection: Upgrade, close\r\nLast-Modified: Mon, 22 Apr 2019 17:59:14 GMT\r\nETag: \"705-5872239fbaee7\"\r\nAccept-Ranges: bytes\r\nContent-Length: 1797\r\nVary: Accept-Encoding\r\nContent-Type: text/plain\r\n\r\nThe Eagle soars in the summit of Heaven,\nThe Hunter with his dogs pursues his circuit.\nO perpetual revolution of configured stars,\nO perpetual recurrence of determined seasons,\nO world of spring and autumn, birth and dying!\nThe Eagle soars in the summit of Heaven,\nThe Hunter with his dogs pursues his circuit.\nO perpetual revolution of configured stars,\nO perpetual recurrence of determined seasons,\nO world of spring and autumn, birth and dying!\nThe endless cycle of idea and action,\nEndless invention, endless experiment,\nBrings knowledge of motion, but not of stillness;\nKnowledge of speech, but not of silence;\nKnowledge of words, and ignorance of the Word.\nAll our knowledge brings us nearer to death,\nBut nearness to death no nearer to God.\nWhere is the Life we have lost in living?\nWhere is the wisdom we have lost in knowledge?\nWhere is the knowledge we have lost in information?\nThe cycles of heaven in twenty centuries\nBrings us farther from God and nearer to the Dust.\nThe lot of man is ceaseless labor,\nOr ceaseless idleness, which is still harder,\nOr irregular labour, which is not pleasant.\nI have trodden the winepress alone, and I know\nThat it is hard to be really useful, resigning\nThe things that men count for happiness, seeking\nThe good deeds that lead to obscurity, accepting\nWith equal face those that bring ignominy,\nThe applause of all or the love of none.\nAll men are ready to invest their money\nBut most expect dividends.\nI say to you: Make perfect your will.\nI say: take no thought of the harvest,\nBut only of proper sowing.\n\nThe world turns and the world changes,\nBut one thing does not change.\nIn all of my years, one thing does not change,\nHowever you disguise it, this thing does not change:\nThe perpetual struggle of Good and Evil.\n\n\nfrom \"The Rock\"\nby T.S. Eliot\n",
          "name": "stdout"
        }
      ]
    },
    {
      "metadata": {},
      "cell_type": "markdown",
      "source": "The output starts with headers which the web server sends to describe the document. For example, the Content-Type header indicates that the document is a plain text document ( text/plain ).\nAfter the server sends us the headers, it adds a blank line to indicate the end of the headers, and then sends the actual data of the file romeo.txt.\nThis example shows how to make a low-level network connection with sockets. Sockets can be used to communicate with a web server or with a mail server or many other kinds of servers. All that is needed is to find the document which describes the protocol and write the code to send and receive the data according to the protocol.\nHowever, since the protocol that we use most commonly is the HTTP web protocol, Python has a special library specifically designed to support the HTTP protocol for the retrieval of documents and data over the web.\nOne of the requirements for using the HTTP protocol is the need to send and receive data as bytes objects, instead of strings. In the preceding example, the encode() and decode() methods convert strings into bytes objects and back again."
    },
    {
      "metadata": {},
      "cell_type": "markdown",
      "source": "## using urllib\n\nWhile we can manually send and receive data over HTTP using the socket library, there is a much simpler way to\nperform this common task in Python by using the urllib library.\nUsing urllib , you can treat a web page much like a file. You simply indicate which web page you would like to\nretrieve and urllib handles all of the HTTP protocol and header details.\nThe equivalent code to read the romeo.txt file from the web using urllib is as follows:"
    },
    {
      "metadata": {
        "scrolled": true,
        "trusted": true
      },
      "cell_type": "code",
      "source": "import urllib.request\nimport ssl\n\n#ctx = ssl.create_default_context()\n#ctx.check_hostname = False\n#ctx.verify_mode = ssl.CERT_NONE\n\nfhand = urllib.request.urlopen('https://bioinf.nl/~fennaf/poem.txt')#, context=ctx)\nfor line in fhand:\n    print(line.decode().strip())\n",
      "execution_count": 3,
      "outputs": [
        {
          "output_type": "stream",
          "text": "The Eagle soars in the summit of Heaven,\nThe Hunter with his dogs pursues his circuit.\nO perpetual revolution of configured stars,\nO perpetual recurrence of determined seasons,\nO world of spring and autumn, birth and dying!\nThe Eagle soars in the summit of Heaven,\nThe Hunter with his dogs pursues his circuit.\nO perpetual revolution of configured stars,\nO perpetual recurrence of determined seasons,\nO world of spring and autumn, birth and dying!\nThe endless cycle of idea and action,\nEndless invention, endless experiment,\nBrings knowledge of motion, but not of stillness;\nKnowledge of speech, but not of silence;\nKnowledge of words, and ignorance of the Word.\nAll our knowledge brings us nearer to death,\nBut nearness to death no nearer to God.\nWhere is the Life we have lost in living?\nWhere is the wisdom we have lost in knowledge?\nWhere is the knowledge we have lost in information?\nThe cycles of heaven in twenty centuries\nBrings us farther from God and nearer to the Dust.\nThe lot of man is ceaseless labor,\nOr ceaseless idleness, which is still harder,\nOr irregular labour, which is not pleasant.\nI have trodden the winepress alone, and I know\nThat it is hard to be really useful, resigning\nThe things that men count for happiness, seeking\nThe good deeds that lead to obscurity, accepting\nWith equal face those that bring ignominy,\nThe applause of all or the love of none.\nAll men are ready to invest their money\nBut most expect dividends.\nI say to you: Make perfect your will.\nI say: take no thought of the harvest,\nBut only of proper sowing.\n\nThe world turns and the world changes,\nBut one thing does not change.\nIn all of my years, one thing does not change,\nHowever you disguise it, this thing does not change:\nThe perpetual struggle of Good and Evil.\n\n\nfrom \"The Rock\"\nby T.S. Eliot\n",
          "name": "stdout"
        }
      ]
    },
    {
      "metadata": {},
      "cell_type": "markdown",
      "source": "Once the web page has been opened with urllib.urlopen , we can treat it like a file and read through it using a for loop."
    },
    {
      "metadata": {
        "trusted": true
      },
      "cell_type": "code",
      "source": "import urllib.request, urllib.parse, urllib.error\nimport ssl\n\nctx = ssl.create_default_context()\nctx.check_hostname = False\nctx.verify_mode = ssl.CERT_NONE\n\nfhand = urllib.request.urlopen('https://bioinf.nl/~fennaf/poem.txt', context = ctx)\ncounts = dict()\nfor line in fhand:\n    words = line.decode().split()\n    for word in words:\n        counts[word] = counts.get(word, 0) + 1\nprint(counts)",
      "execution_count": 4,
      "outputs": [
        {
          "output_type": "stream",
          "text": "{'is': 7, 'from': 2, 'irregular': 1, 'perpetual': 5, 'man': 1, 'in': 6, 'those': 1, 'motion,': 1, 'bring': 1, 'or': 1, 'harder,': 1, 'good': 1, 'to': 8, 'say:': 1, 'struggle': 1, 'have': 4, 'circuit.': 2, 'their': 1, 'Knowledge': 2, 'lead': 1, 'heaven': 1, 'idea': 1, 'Brings': 2, 'However': 1, 'which': 2, 'information?': 1, 'seeking': 1, 'stillness;': 1, 'revolution': 2, 'lost': 3, 'change,': 1, 'lot': 1, 'happiness,': 1, 'us': 2, 'Hunter': 2, 'Endless': 1, 'living?': 1, 'perfect': 1, 'useful,': 1, 'With': 1, 'Evil.': 1, 'face': 1, 'In': 1, 'thing': 3, 'ignorance': 1, 'God.': 1, 'action,': 1, 'configured': 2, 'wisdom': 1, 'stars,': 2, 'idleness,': 1, 'proper': 1, 'ceaseless': 2, 'changes,': 1, 'dividends.': 1, 'centuries': 1, 'change.': 1, 'most': 1, 'Rock\"': 1, 'death': 1, 'autumn,': 2, 'you': 1, 'years,': 1, 'experiment,': 1, 'nearness': 1, 'twenty': 1, 'deeds': 1, 'winepress': 1, 'The': 12, 'All': 2, 'birth': 2, 'will.': 1, 'dogs': 2, 'ready': 1, 'that': 3, 'Dust.': 1, 'Eagle': 2, 'knowledge': 3, 'applause': 1, 'really': 1, 'thought': 1, 'love': 1, 'speech,': 1, 'brings': 1, 'summit': 2, 'Life': 1, 'O': 6, 'resigning': 1, 'nearer': 3, 'his': 4, 'Eliot': 1, 'invention,': 1, 'for': 1, 'accepting': 1, 'not': 6, 'does': 3, 'Where': 3, 'But': 4, 'cycle': 1, 'be': 1, 'of': 23, 'with': 2, 'I': 4, 'it': 1, 'are': 1, 'Make': 1, 'one': 2, 'my': 1, 'endless': 2, 'alone,': 1, 'by': 1, 'you:': 1, 'invest': 1, 'labor,': 1, 'pursues': 2, 'the': 11, 'disguise': 1, 'soars': 2, 'world': 4, 'Word.': 1, 'recurrence': 2, 'only': 1, 'pleasant.': 1, 'T.S.': 1, 'take': 1, 'Good': 1, 'this': 1, 'things': 1, 'Heaven,': 2, 'turns': 1, 'God': 1, 'and': 10, '\"The': 1, 'death,': 1, 'harvest,': 1, 'count': 1, 'but': 2, 'none.': 1, 'we': 3, 'spring': 2, 'your': 1, 'it,': 1, 'cycles': 1, 'expect': 1, 'words,': 1, 'Or': 2, 'our': 1, 'silence;': 1, 'no': 2, 'trodden': 1, 'seasons,': 2, 'equal': 1, 'determined': 2, 'still': 1, 'obscurity,': 1, 'knowledge?': 1, 'hard': 1, 'That': 1, 'ignominy,': 1, 'know': 1, 'say': 1, 'men': 2, 'dying!': 2, 'farther': 1, 'sowing.': 1, 'money': 1, 'all': 2, 'labour,': 1, 'change:': 1}\n",
          "name": "stdout"
        }
      ]
    },
    {
      "metadata": {},
      "cell_type": "markdown",
      "source": "In the example above the textfile is a simple txt format, easy to read and handle. A txt file is difficult to send data in a format of an object or a table. For that reason protocols like HTML XML and JSON are invented. See webscraping tutorial"
    }
  ],
  "metadata": {
    "kernelspec": {
      "name": "python3",
      "display_name": "Python 3",
      "language": "python"
    },
    "language_info": {
      "mimetype": "text/x-python",
      "nbconvert_exporter": "python",
      "name": "python",
      "file_extension": ".py",
      "version": "3.5.4",
      "pygments_lexer": "ipython3",
      "codemirror_mode": {
        "version": 3,
        "name": "ipython"
      }
    }
  },
  "nbformat": 4,
  "nbformat_minor": 2
}