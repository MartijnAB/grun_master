{
 "cells": [
  {
   "cell_type": "markdown",
   "metadata": {},
   "source": [
    "# Crash Course databases and python (and some xml)\n",
    "\n",
    "Parts of the examples are from http://www.dr-chuck.com/)\n",
    "\n",
    "Structured Query Language(SQL)  is the database language by the use of which we can perform certain operations on the existing database and also we can use this language to create a database. SQL uses certain commands like Create, Drop, Insert etc. to carry out the required tasks.\n",
    "\n",
    "These SQL commands are mainly categorized into four categories as"
   ]
  },
  {
   "cell_type": "markdown",
   "metadata": {},
   "source": [
    "- Data definition language (DDL): `CREATE`, `DROP`, `ALTER`, `ADD`, `CHECK`\n",
    "- Data Manipulation language (DML): `SELECT`, `INSERT INTO`, `UPDATE`, `DELETE`, `SET`\n",
    "- Data Authorization language (DAL): `GRANT`, `REVOKE`\n",
    "- Data control language (DCL):`CREATE INDEX`"
   ]
  },
  {
   "cell_type": "markdown",
   "metadata": {},
   "source": [
    "See also https://www.w3schools.com/SQL/\n",
    "\n",
    "Talking to a database is like making a phonecall. Before we can talk to the database we need to make a connection first. We can connect to a database with the Python Database API. Access to the database is made available through connection objects. The constructor is:\n",
    "\n",
    "    connect( parameters... )\n",
    "    \n",
    "The parameters are database system dependable. In the example below we connect to an sqlite database. \n",
    "Sqlite is a free downloadable database system. "
   ]
  },
  {
   "cell_type": "code",
   "execution_count": 17,
   "metadata": {},
   "outputs": [],
   "source": [
    "import sqlite3\n",
    "conn = sqlite3.connect('track.sqlite') #opens or create database"
   ]
  },
  {
   "cell_type": "markdown",
   "metadata": {},
   "source": [
    "The connection object has several methods: `.close()`, `.commit`, `.rollback`, `.cursor()` where the `cursor()` method returns a new cursor object. This object is mostly used to give 'instructions' to the database. Simple instructions we can give with the `conn.cursor().execute`, multiline scripts we can execute with `conn.cursor().executescript` In the example below a cursor is created and a sql command `DROP TABLE` is given. "
   ]
  },
  {
   "cell_type": "code",
   "execution_count": 18,
   "metadata": {},
   "outputs": [
    {
     "data": {
      "text/plain": [
       "<sqlite3.Cursor at 0x7f9684d150a0>"
      ]
     },
     "execution_count": 18,
     "metadata": {},
     "output_type": "execute_result"
    }
   ],
   "source": [
    "cur = conn.cursor()\n",
    "cur.execute('DROP TABLE IF EXISTS Artist;')"
   ]
  },
  {
   "cell_type": "markdown",
   "metadata": {},
   "source": [
    "With the data definition language we can create tables structures. Good practice is to write a create script for all the tables and executing the whole script with the `conn.cursor().executescript` method"
   ]
  },
  {
   "cell_type": "code",
   "execution_count": 19,
   "metadata": {},
   "outputs": [
    {
     "data": {
      "text/plain": [
       "<sqlite3.Cursor at 0x7f9684d150a0>"
      ]
     },
     "execution_count": 19,
     "metadata": {},
     "output_type": "execute_result"
    }
   ],
   "source": [
    "cur.executescript('''\n",
    "DROP TABLE IF EXISTS Artist;\n",
    "DROP TABLE IF EXISTS Album;\n",
    "DROP TABLE IF EXISTS Track;\n",
    "DROP TABLE IF EXISTS Genre;\n",
    "\n",
    "\n",
    "CREATE TABLE Artist (\n",
    "    id  INTEGER NOT NULL PRIMARY KEY AUTOINCREMENT UNIQUE,\n",
    "    name    TEXT UNIQUE\n",
    ");\n",
    "\n",
    "CREATE TABLE Genre (\n",
    "    id  INTEGER NOT NULL PRIMARY KEY AUTOINCREMENT UNIQUE,\n",
    "    name    TEXT UNIQUE\n",
    ");\n",
    "\n",
    "CREATE TABLE Album (\n",
    "    id  INTEGER NOT NULL PRIMARY KEY AUTOINCREMENT UNIQUE,\n",
    "    artist_id  INTEGER,\n",
    "    title   TEXT UNIQUE\n",
    ");\n",
    "\n",
    "CREATE TABLE Track (\n",
    "    id  INTEGER NOT NULL PRIMARY KEY\n",
    "        AUTOINCREMENT UNIQUE,\n",
    "    title TEXT  UNIQUE,\n",
    "    album_id  INTEGER,\n",
    "    genre_id  INTEGER,\n",
    "    len INTEGER, rating INTEGER, count INTEGER\n",
    ");\n",
    "''')"
   ]
  },
  {
   "cell_type": "markdown",
   "metadata": {},
   "source": [
    "With the data manipulation language we can fill the table structures"
   ]
  },
  {
   "cell_type": "code",
   "execution_count": 20,
   "metadata": {},
   "outputs": [
    {
     "data": {
      "text/plain": [
       "<sqlite3.Cursor at 0x7f9684d150a0>"
      ]
     },
     "execution_count": 20,
     "metadata": {},
     "output_type": "execute_result"
    }
   ],
   "source": [
    "artist = 'Opeth'\n",
    "cur.execute('INSERT OR IGNORE INTO Artist (name) VALUES ( ? )', ( artist, ) )"
   ]
  },
  {
   "cell_type": "markdown",
   "metadata": {},
   "source": [
    "And with the data manipulation language we can retrieve information"
   ]
  },
  {
   "cell_type": "code",
   "execution_count": 21,
   "metadata": {},
   "outputs": [
    {
     "name": "stdout",
     "output_type": "stream",
     "text": [
      "[(1, 'Opeth')]\n"
     ]
    }
   ],
   "source": [
    "cur.execute('SELECT * FROM Artist')\n",
    "print(cur.fetchall())\n",
    "\n"
   ]
  },
  {
   "cell_type": "markdown",
   "metadata": {},
   "source": [
    "To retrieve information from multiple tables into one view we should make `JOIN` statements"
   ]
  },
  {
   "cell_type": "markdown",
   "metadata": {},
   "source": [
    "### Pandas and SQL\n",
    "\n",
    "Pandas has a `read_sql_query` function that can read tables from querys. It needs the SQL query in the data manipulation language and a connection. "
   ]
  },
  {
   "cell_type": "code",
   "execution_count": 22,
   "metadata": {},
   "outputs": [
    {
     "name": "stdout",
     "output_type": "stream",
     "text": [
      "<class 'pandas.core.frame.DataFrame'>\n"
     ]
    },
    {
     "data": {
      "text/html": [
       "<div>\n",
       "<style scoped>\n",
       "    .dataframe tbody tr th:only-of-type {\n",
       "        vertical-align: middle;\n",
       "    }\n",
       "\n",
       "    .dataframe tbody tr th {\n",
       "        vertical-align: top;\n",
       "    }\n",
       "\n",
       "    .dataframe thead th {\n",
       "        text-align: right;\n",
       "    }\n",
       "</style>\n",
       "<table border=\"1\" class=\"dataframe\">\n",
       "  <thead>\n",
       "    <tr style=\"text-align: right;\">\n",
       "      <th></th>\n",
       "      <th>id</th>\n",
       "      <th>name</th>\n",
       "    </tr>\n",
       "  </thead>\n",
       "  <tbody>\n",
       "    <tr>\n",
       "      <th>0</th>\n",
       "      <td>1</td>\n",
       "      <td>Opeth</td>\n",
       "    </tr>\n",
       "  </tbody>\n",
       "</table>\n",
       "</div>"
      ],
      "text/plain": [
       "   id   name\n",
       "0   1  Opeth"
      ]
     },
     "execution_count": 22,
     "metadata": {},
     "output_type": "execute_result"
    }
   ],
   "source": [
    "import pandas as pd\n",
    "df = pd.read_sql_query('SELECT * FROM Artist', conn)\n",
    "print(type(df))\n",
    "df"
   ]
  },
  {
   "cell_type": "markdown",
   "metadata": {},
   "source": [
    "When we are finised with the database instructions we can close the connection"
   ]
  },
  {
   "cell_type": "code",
   "execution_count": 23,
   "metadata": {},
   "outputs": [],
   "source": [
    "conn.commit()\n",
    "conn.close()"
   ]
  },
  {
   "cell_type": "markdown",
   "metadata": {},
   "source": [
    "## Retrieve from XML\n",
    "\n",
    "XML and HTML are structured simular but XML is more general. An example of XML you find below. XML is another common structured data format supporting hierarchal nested data with metadata."
   ]
  },
  {
   "cell_type": "code",
   "execution_count": 24,
   "metadata": {},
   "outputs": [
    {
     "name": "stdout",
     "output_type": "stream",
     "text": [
      "Name: Fenna\n",
      "Attr: yes\n"
     ]
    }
   ],
   "source": [
    "import xml.etree.ElementTree as ET\n",
    "\n",
    "data = '''\n",
    "<person>\n",
    "  <name>Fenna</name>\n",
    "  <phone type=\"intl\">\n",
    "    +31646080034\n",
    "  </phone>\n",
    "  <email hide=\"yes\" />\n",
    "</person>'''\n",
    "\n",
    "tree = ET.fromstring(data)\n",
    "print('Name:', tree.find('name').text)\n",
    "print('Attr:', tree.find('email').get('hide'))"
   ]
  },
  {
   "cell_type": "markdown",
   "metadata": {},
   "source": [
    "Unfortunately Pandas package does not have a function to import data from XML so we need to use standard XML package and do some extra work to convert the data to Pandas DataFrames. Below you find an XML file that has track information"
   ]
  },
  {
   "cell_type": "code",
   "execution_count": 25,
   "metadata": {},
   "outputs": [
    {
     "name": "stdout",
     "output_type": "stream",
     "text": [
      "Dict count: 404\n",
      "Another One Bites The Dust Queen Greatest Hits\n",
      "Asche Zu Asche Rammstein Herzeleid\n",
      "Beauty School Dropout Various Grease\n",
      "Black Dog Led Zeppelin IV\n",
      "Bring The Boys Back Home Pink Floyd The Wall [Disc 2]\n",
      "Circles Bryan Lee Blues Is\n",
      "Comfortably Numb Pink Floyd The Wall [Disc 2]\n",
      "Crazy Little Thing Called Love Queen Greatest Hits\n",
      "Electric Funeral Black Sabbath Paranoid\n",
      "Fat Bottomed Girls Queen Greatest Hits\n",
      "For Those About To Rock (We Salute You) AC/DC Who Made Who\n",
      "Four Sticks Led Zeppelin IV\n",
      "Furious Angels Rob Dougan The Matrix Reloaded\n",
      "Gelle Bryan Lee Blues Is\n",
      "Going To California Led Zeppelin IV\n",
      "Gotta Move Fast Michael Loceff None\n",
      "Grease Various Grease\n",
      "Hand of Doom Black Sabbath Paranoid\n",
      "Hells Bells AC/DC Who Made Who\n",
      "Hey You Pink Floyd The Wall [Disc 2]\n",
      "I Worry Bryan Lee Blues Is\n",
      "Iron Man Black Sabbath Paranoid\n",
      "Is There Anybody Out There? Pink Floyd The Wall [Disc 2]\n",
      "It was a Very Good Year Frank Sinatra Greatest Hits\n",
      "Its Your Move Bryan Lee Blues Is\n",
      "Jack the Stripper/Fairies Wear Boots Black Sabbath Paranoid\n",
      "Killer Queen Queen Greatest Hits\n",
      "Laichzeit Rammstein Herzeleid\n",
      "Let me Down Easy Bryan Lee Blues Is\n",
      "Misty Mountain Hop Led Zeppelin IV\n",
      "No Low Down Bryan Lee Blues Is\n",
      "Now You Are Gone America Greatest Hits\n",
      "Outside The Wall Pink Floyd The Wall [Disc 2]\n",
      "Paranoid Black Sabbath Paranoid\n",
      "Planet Caravan Black Sabbath Paranoid\n",
      "Pretty Jeanie Bryan Lee Blues Is\n",
      "Rammstein Rammstein Herzeleid\n",
      "Rat Salad Black Sabbath Paranoid\n",
      "Rock & Roll Led Zeppelin IV\n",
      "Rode Across the Desert America Greatest Hits\n",
      "Sandy Various Grease\n",
      "Shake Your Foundations AC/DC Who Made Who\n",
      "Sister Golden Hair America Greatest Hits\n",
      "Somebody To Love Queen Greatest Hits\n",
      "Stairway To Heaven Led Zeppelin IV\n",
      "Strangers in the Night Frank Sinatra Greatest Hits\n",
      "Summer Nights Various Grease\n",
      "Summer Wind Frank Sinatra Greatest Hits\n",
      "Thats Life Frank Sinatra Greatest Hits\n",
      "The Battle Of Evermore Led Zeppelin IV\n",
      "The Blues \"Is\" Bryan Lee Blues Is\n",
      "There it Is Bryan Lee Blues Is\n",
      "Think Bryan Lee Blues Is\n",
      "This Town Frank Sinatra Greatest Hits\n",
      "Tin Man America Greatest Hits\n",
      "Track 01 Billy Price Danger Zone\n",
      "Track 02 Billy Price Danger Zone\n",
      "Track 03 Billy Price Danger Zone\n",
      "Messin with the Kid The Canettes Blues Band Self Titled\n",
      "Track 04 Billy Price Danger Zone\n",
      "Stormy Monday The Canettes Blues Band Self Titled\n",
      "Track 05 Billy Price Danger Zone\n",
      "Twenty Two Second Man Michael Loceff None\n",
      "Waiting on Ice Bryan Lee Blues Is\n",
      "War Pigs/Luke's Wall Black Sabbath Paranoid\n",
      "We Are The Champions Queen Greatest Hits\n",
      "We Will Rock You Queen Greatest Hits\n",
      "When Somebody Loves You Frank Sinatra Greatest Hits\n",
      "When The Levee Breaks Led Zeppelin IV\n",
      "You are the One that I Want Various Grease\n",
      "You Done Me Wrong Bryan Lee Blues Is\n",
      "You Shook Me All Night Long AC/DC Who Made Who\n",
      "You're My Best Friend Queen Greatest Hits\n",
      "Zion Fluke The Matrix Reloaded\n",
      "Who Made Who AC/DC Who Made Who\n",
      "D.T. AC/DC Who Made Who\n",
      "Sink the Pink AC/DC Who Made Who\n",
      "Ride On AC/DC Who Made Who\n",
      "Chase the Ace AC/DC Who Made Who\n",
      "Wollt Ihr Das Bett In Flammen Sehen Rammstein Herzeleid\n",
      "Der Meister Rammstein Herzeleid\n",
      "Weisses Fleisch Rammstein Herzeleid\n",
      "Seemann Rammstein Herzeleid\n",
      "Du Riechst So Gut Rammstein Herzeleid\n",
      "Das Alte Leid Rammstein Herzeleid\n",
      "Heirate Mich Rammstein Herzeleid\n",
      "Herzeleid Rammstein Herzeleid\n",
      "Baba O'Riley The Who Who's Next\n",
      "Bargain The Who Who's Next\n",
      "Love Ain't for Keeping The Who Who's Next\n",
      "My Wife The Who Who's Next\n",
      "The Song Is Over The Who Who's Next\n",
      "Getting In Tune The Who Who's Next\n",
      "Going Mobile The Who Who's Next\n",
      "Behind Blue Eyes The Who Who's Next\n",
      "Won't Get Fooled Again The Who Who's Next\n",
      "Folsom Prison Blues Johnny Cash The Legend Of Johnny Cash\n",
      "I Walk The Line Johnny Cash The Legend Of Johnny Cash\n",
      "Get Rhythm Johnny Cash The Legend Of Johnny Cash\n",
      "Big River Johnny Cash The Legend Of Johnny Cash\n",
      "Guess Things Happen That Way Johnny Cash The Legend Of Johnny Cash\n",
      "Ring Of Fire Johnny Cash The Legend Of Johnny Cash\n",
      "Jackson Johnny Cash The Legend Of Johnny Cash\n",
      "A Boy Named Sue (live) Johnny Cash The Legend Of Johnny Cash\n",
      "You Raise Me Up Selah Hiding Place\n",
      "Hold On, I'm Coming The Canettes Blues Band On Tap & In the Can\n",
      "Got my Mojo Working The Canettes Blues Band On Tap & In the Can\n",
      "Sweet Home Chicago The Canettes Blues Band On Tap & In the Can\n",
      "Heavy Love The Canettes Blues Band On Tap & In the Can\n",
      "Cold Cold Feeling The Canettes Blues Band On Tap & In the Can\n",
      "Lonely Avenue The Canettes Blues Band On Tap & In the Can\n",
      "Good Morning Little Schoolgirl The Canettes Blues Band On Tap & In the Can\n",
      "Dust My Broom The Canettes Blues Band On Tap & In the Can\n",
      "Gimme' Some Lovin The Canettes Blues Band On Tap & In the Can\n",
      "Everybody Needs Somebody to Love The Canettes Blues Band On Tap & In the Can\n",
      "Black Magic Woman The Canettes Blues Band On Tap & In the Can\n",
      "Steppin' Rooster The Canettes Blues Band On Tap & In the Can\n",
      "Our Love is Drifting The Canettes Blues Band On Tap & In the Can\n",
      "Doin' 100 The Canettes Blues Band On Tap & In the Can\n",
      "Track 01 Sinister Symphony None\n",
      "Track 02 Sinister Symphony None\n",
      "Track 03 Sinister Symphony None\n",
      "Track 04 Sinister Symphony None\n",
      "Track 05 Sinister Symphony None\n",
      "Track 06 Sinister Symphony None\n",
      "Track 07 Sinister Symphony None\n",
      "Track 08 Sinister Symphony None\n",
      "Mother Joy Matt Ender Natural Wonders Music Sampler 1999\n",
      "Soldier's Lament Steve McDonald Natural Wonders Music Sampler 1999\n",
      "Dulaman Altan Natural Wonders Music Sampler 1999\n",
      "The Arrow Chris Spheeris Natural Wonders Music Sampler 1999\n",
      "Spanish Eyes La Esperanza Natural Wonders Music Sampler 1999\n",
      "Banana Bay Luis Villegas Natural Wonders Music Sampler 1999\n",
      "Aguas De Marco Rosa Passos Natural Wonders Music Sampler 1999\n",
      "Tamborea Energipsy Natural Wonders Music Sampler 1999\n",
      "Gone Hollie Smith Natural Wonders Music Sampler 1999\n",
      "The Immigrant Joanie Madden Natural Wonders Music Sampler 1999\n",
      "Pahrump-Big Water Cusco Natural Wonders Music Sampler 1999\n",
      "Seeker's Quest Cheryl Gunn Natural Wonders Music Sampler 1999\n",
      "Floating To Forever Dean Everson Natural Wonders Music Sampler 1999\n",
      "Open Road Jeff Bailey Relaxing Jazz\n",
      "eniment-version-a None None\n",
      "Ruby Kaiser Chiefs Yours Truly, Angry Mob\n",
      "The Angry Mob Kaiser Chiefs Yours Truly, Angry Mob\n",
      "Heat Dies Down Kaiser Chiefs Yours Truly, Angry Mob\n",
      "Highroyds Kaiser Chiefs Yours Truly, Angry Mob\n",
      "Love's Not A Competition (But I'm Winning) Kaiser Chiefs Yours Truly, Angry Mob\n",
      "Thank You Very Much Kaiser Chiefs Yours Truly, Angry Mob\n",
      "I Can Do It Without You Kaiser Chiefs Yours Truly, Angry Mob\n",
      "My Kind Of Guy Kaiser Chiefs Yours Truly, Angry Mob\n",
      "Everything Is Average Nowadays Kaiser Chiefs Yours Truly, Angry Mob\n",
      "Learnt My Lesson Well Kaiser Chiefs Yours Truly, Angry Mob\n",
      "Try Your Best Kaiser Chiefs Yours Truly, Angry Mob\n",
      "Retirement Kaiser Chiefs Yours Truly, Angry Mob\n",
      "The Angry Mob [Live From Berlin] Kaiser Chiefs Yours Truly, Angry Mob\n",
      "I Like To Fight Kaiser Chiefs Yours Truly, Angry Mob\n",
      "From The Neck Down Kaiser Chiefs Yours Truly, Angry Mob\n",
      "ruby_on_rails None None\n",
      "AcceleratorBlues The Canettes Blues Band None\n",
      "HenryFordBlues The Canettes Blues Band None\n",
      "SteppinOut The Canettes Blues Band None\n",
      "LittleRedRooster The Canettes Blues Band None\n",
      "fln_iphone None None\n",
      "mojo-di None None\n",
      "etudes-500 None None\n",
      "jmw-iphone None None\n",
      "Bomb Squad (TECH) Brent Brent's Album\n",
      "BYURY ME Brent Peanut Butter & Jam \n",
      "Charlie and the Rising Moon Charlie And The Rising Moon Charlie and The Rising Moon\n",
      "clay techno  Brent Brent's Album\n",
      "Cloud Nine Times Over  Charlie And The Rising Moon Charlie and The Rising Moon\n",
      "Depression in Session Brent Peanut Butter and Jam \n",
      "Heavy Brent Brent's Album\n",
      "Hi metal man Brent Brent's Album\n",
      "Mistro Brent Brent's Album\n",
      "Pirate spirit Brent Brent's Album\n",
      "Run Away (New)  Brent Brent's Album\n",
      "Star Gaze (Inspired) Charlie And The Rising Moon Charlie and The Rising Moon\n",
      "The Dictator (New Brent Peanut Butter & Jam \n",
      "Town From Town Brent Brent's Album\n",
      "The Wisdom of Crowds: Why the Many Are Smarter than the Few Part 1 of 3 James Surowiecki The Wisdom of Crowds: Why the Many Are Smarter than the Few (Abridged Nonfiction)\n",
      "The Wisdom of Crowds: Why the Many Are Smarter than the Few Part 2 of 3 James Surowiecki The Wisdom of Crowds: Why the Many Are Smarter than the Few (Abridged Nonfiction)\n",
      "The Wisdom of Crowds: Why the Many Are Smarter than the Few Part 3 of 3 James Surowiecki The Wisdom of Crowds: Why the Many Are Smarter than the Few (Abridged Nonfiction)\n",
      "The Wisdom of Crowds: Why the Many Are Smarter Than the Few (Unabridged) Part 1 of 5 James Surowiecki The Wisdom of Crowds: Why the Many Are Smarter Than the Few (Unabridged)\n",
      "The Wisdom of Crowds: Why the Many Are Smarter Than the Few (Unabridged) Part 2 of 5 James Surowiecki The Wisdom of Crowds: Why the Many Are Smarter Than the Few (Unabridged)\n",
      "The Wisdom of Crowds: Why the Many Are Smarter Than the Few (Unabridged) Part 3 of 5 James Surowiecki The Wisdom of Crowds: Why the Many Are Smarter Than the Few (Unabridged)\n",
      "The Wisdom of Crowds: Why the Many Are Smarter Than the Few (Unabridged) Part 4 of 5 James Surowiecki The Wisdom of Crowds: Why the Many Are Smarter Than the Few (Unabridged)\n",
      "The Wisdom of Crowds: Why the Many Are Smarter Than the Few (Unabridged) Part 5 of 5 James Surowiecki The Wisdom of Crowds: Why the Many Are Smarter Than the Few (Unabridged)\n",
      "squirrel None None\n",
      "09-08-29-fm-live-1400 None None\n",
      "09-09-03-fm-acoustic None None\n",
      "edu2020 None None\n",
      "LTI-And-Moodle None None\n",
      "smallplanet-di None None\n",
      "beautiful-mind None None\n",
      "steering-wheel-ipad-1400 None None\n",
      "Misty David Osborne Moonlight And Love Songs\n",
      "My Funny Valentine David Osborne Moonlight And Love Songs\n",
      "Since I Don't Have You David Osborne Moonlight And Love Songs\n",
      "Tenderly David Osborne Moonlight And Love Songs\n",
      "When I Fall In Love David Osborne Moonlight And Love Songs\n",
      "Unforgettable David Osborne Moonlight And Love Songs\n",
      "The Way You Look Tonight David Osborne Moonlight And Love Songs\n",
      "I've Grown Accustomed To Your Face David Osborne Moonlight And Love Songs\n",
      "Smoke Gets In Your Eyes David Osborne Moonlight And Love Songs\n",
      "Fly Me To The Moon David Osborne Moonlight And Love Songs\n",
      "Unchained Melody David Osborne Moonlight And Love Songs\n",
      "These Foolish Things Remind Me Of You David Osborne Moonlight And Love Songs\n",
      "La Vie En Rose David Osborne Moonlight And Love Songs\n",
      "As Time Goes By David Osborne Moonlight And Love Songs\n",
      "marissa-excerpt-1400 None None\n",
      "Pilot Fairly Legal Fairly Legal, Season 1\n",
      "02-1995-timbl-800 None None\n",
      "03-1997-larry-smarr-mini None None\n",
      "04-2010-nsfnet-dvh-1400-short None None\n",
      "05-1999-cailliau-1400CAPTIONED-short None None\n",
      "06-2006-kunz-1400CAPTIONED-short None None\n",
      "07-2008-hardin-1400CAPTIONED-short None None\n",
      "08-1999-cailliau-1400CAPTIONED-short-II None None\n",
      "09-2008-hardin-1400CAPTIONED-short-II None None\n",
      "10-1997-bezos-1400-short None None\n",
      "04-LTI-And-Moodle None None\n",
      "2011-06-05-moodle-ipad None None\n",
      "Mary_poppins None None\n",
      "space cowboy None None\n",
      "GeorgeTonSupercomputing None None\n",
      "2011-10-08-smarr-05-1400 None None\n",
      "Jobs2a csev csev's Album\n",
      "hte postal service - the impor The Postal Service unreleased demo\n",
      "2012-06-Bletchley-IEEE None None\n",
      "2012-05-The-Best-Taco-In-The-World None None\n",
      "2012-10-30-Andorra-Video None None\n",
      "Winter Wonderland Bing Crosby Seasons Greatings\n",
      "Jingle Bells Frank Sinatra Seasons Greatings\n",
      "White Christmas Bing Crosby Seasons Greatings\n",
      "The Christmas Song Frank Sinatra Seasons Greatings\n",
      "Little Drummer Boy Bing Crosby Seasons Greatings\n",
      "Silent Night Frank Sinatra Seasons Greatings\n",
      "Let It Snow Bing Crosby Seasons Greatings\n",
      "Mistletoe And Holly Frank Sinatra Seasons Greatings\n",
      "O Holy Night Bing Crosby Seasons Greatings\n",
      "Have Yourself A Merry Little Christmas Frank Sinatra Seasons Greatings\n",
      "Do You Hear What I Hear Bing Crosby Seasons Greatings\n",
      "I'll Be Home For Christmas Frank Sinatra Seasons Greatings\n",
      "Track 01 Kaiser Chiefs None\n",
      "Track 02 Kaiser Chiefs None\n",
      "Track 03 Kaiser Chiefs None\n",
      "Track 04 Kaiser Chiefs None\n",
      "Track 05 Kaiser Chiefs None\n",
      "Track 06 Kaiser Chiefs None\n",
      "Track 07 Kaiser Chiefs None\n",
      "Track 08 Kaiser Chiefs None\n",
      "Track 09 Kaiser Chiefs None\n",
      "Track 10 Kaiser Chiefs None\n",
      "Track 11 Kaiser Chiefs None\n",
      "Track 12 Kaiser Chiefs None\n",
      "Track 13 Kaiser Chiefs None\n",
      "Track 14 Kaiser Chiefs None\n",
      "Track 15 Kaiser Chiefs None\n",
      "Voices Disturbed The Sickness\n",
      "The Game Disturbed The Sickness\n",
      "Stupify Disturbed The Sickness\n",
      "Down With The Sickness Disturbed The Sickness\n",
      "Violence Fetish Disturbed The Sickness\n",
      "Fear Disturbed The Sickness\n",
      "Numb Disturbed The Sickness\n",
      "Want Disturbed The Sickness\n",
      "Conflict Disturbed The Sickness\n",
      "Shout 2000 Disturbed The Sickness\n",
      "Droppin' Plates Disturbed The Sickness\n",
      "Meaning Of Life Disturbed The Sickness\n",
      "edu2020 None None\n",
      "PY4INF-01-Intro.mp3 Recording by Dr. Chuck Python for Informatics's official Podcast.\n",
      "ted_03 None None\n",
      "Pomp and Circumstance Marches No. 1 Edward Elgar None\n",
      "Eben Upton: Raspberry Pi IEEE Computer Society Computing Conversations\n",
      "Andrew Tanenbaum: Writing the Book on Networks IEEE Computer Society Computing Conversations\n",
      "Massimo Banzi: Building Arduino IEEE Computer Society Computing Conversations\n",
      "PY4INF-04-Functions.mp3 Recording by Dr. Chuck Python for Informatics's official Podcast.\n",
      "PY4INF-02-Expressions.mp3 Recording by Dr. Chuck Python for Informatics's official Podcast.\n",
      "PY4INF-03-Conditional.mp3 Recording by Dr. Chuck Python for Informatics's official Podcast.\n",
      "PY4INF-05-Iterations.mp3 Recording by Dr. Chuck Python for Informatics's official Podcast.\n",
      "PY4INF-06-Strings.mp3 Recording by Dr. Chuck Python for Informatics's official Podcast.\n",
      "PY4INF-07-Files.mp3 Recording by Dr. Chuck Python for Informatics's official Podcast.\n",
      "PY4INF-08-Lists.mp3 Recording by Dr. Chuck Python for Informatics's official Podcast.\n",
      "PY4INF-09-Dictionaries.mp3 Recording by Dr. Chuck Python for Informatics's official Podcast.\n",
      "PY4INF-10-Tuples.mp3 Recording by Dr. Chuck Python for Informatics's official Podcast.\n",
      "PY4INF-11-Regex.mp3 Recording by Dr. Chuck Python for Informatics's official Podcast.\n",
      "John C. Hollar: History of Computing IEEE Computer Society Computing Conversations\n",
      "Bob Metcalfe: Ethernet at Forty IEEE Computer Society Computing Conversations\n",
      "Gordon Bell: Building Blocks of Computing IEEE Computer Society Computing Conversations\n",
      "Ian Horrocks: Standardizing OWL IEEE Computer Society Computing Conversations\n",
      "Katie Hafner: The Origins of the Internet IEEE Computer Society Computing Conversations\n",
      "Larry Smarr: Building Mosaic IEEE Computer Society Computing Conversations\n",
      "Len Kleinrock: The Theory of Packets IEEE Computer Society Computing Conversations\n",
      "Mitchell Baker: The Mozilla Foundation IEEE Computer Society Computing Conversations\n",
      "Pooja Sankar: Building the Piazza Collaboration System IEEE Computer Society Computing Conversations\n",
      "Van Jacobson: Content-Centric Networking IEEE Computer Society Computing Conversations\n",
      "The Apache Software Foundation IEEE Computer Society Computing Conversations\n",
      "A Brief History of Packets IEEE Computer Society Computing Conversations\n",
      "Discovering JavaScript Object Notation IEEE Computer Society Computing Conversations\n",
      "Inventing PHP IEEE Computer Society Computing Conversations\n",
      "Monash Museum of Computing History IEEE Computer Society Computing Conversations\n",
      "The Rise of JavaScript IEEE Computer Society Computing Conversations\n",
      "lo_and_behold_audio None None\n",
      "1996-02-tci07 None None\n",
      "Joseph Hardin: NCSA Mosaic IEEE Computer Society Computing Conversations\n",
      "Len Kleinrock on the Internet's First Two Packets IEEE Computer Society Computing Conversations\n",
      "SPOOKTAKULA INSTRUMENTAL None None\n",
      "Pomp and Circumstance Marches No. 1 Edward Elgar None\n",
      "Doug Van Houweling on Building the NSFNet IEEE Computer Society Computing Conversations\n",
      "Computing Conversations: Nathaniel Borenstein on MIME IEEE Computer Society Computing Conversations\n",
      "You Don't Mess Around With Jim Jim Croce Classic Hits\n",
      "Andrew S. Tanenbaum on MINIX IEEE Computer Society Computing Conversations\n",
      "Computing Conversations: Elizabeth Fong on SQL Standards IEEE Computer Society Computing Conversations\n",
      "Nii Quaynor on Bringing the Internet to Africa IEEE Computer Society Computing Conversations\n",
      "PHP-09-Transactions.mp3 Created by Sakai SI 664 W14's official Podcast.\n",
      "PHP-01-Intro.mp3 Created by Sakai SI 664 W14's official Podcast.\n",
      "PHP-02-Install.mp3 Created by Sakai SI 664 W14's official Podcast.\n",
      "PHP-04-Expressions.mp3 Created by Sakai SI 664 W14's official Podcast.\n",
      "PHP-05-Functions.mp3 Created by Sakai SI 664 W14's official Podcast.\n",
      "PHP-06-Strings.mp3 Created by Sakai SI 664 W14's official Podcast.\n",
      "PHP-12-Sessions.mp3 Created by Sakai SI 664 W14's official Podcast.\n",
      "PHP-06-Objects.mp3 Created by Sakai SI 664 W14's official Podcast.\n",
      "SI664-13-JSON-A.mp3 Created by Sakai SI 664 W14's official Podcast.\n",
      "PHP-13-JavaScript.mp3 Created by Sakai SI 664 W14's official Podcast.\n",
      "PHP-09-Database-Design.mp3 Created by Sakai SI 664 W14's official Podcast.\n",
      "PHP-Tsugi-Install.mp3 Created by Sakai SI 664 W14's official Podcast.\n",
      "PHP-10-MySQL-PDO.mp3 Created by Sakai SI 664 W14's official Podcast.\n",
      "PHP-08-MySQL.mp3 Created by Sakai SI 664 W14's official Podcast.\n",
      "SI664-13-JSON-B.mp3 Created by Sakai SI 664 W14's official Podcast.\n",
      "IMS-Learning-Tools-Interoperability.mp3 Created by Sakai SI 664 W14's official Podcast.\n",
      "An Interview with Don Waters Matt Pasiewicz CNI Event Coverage\n",
      "Pooja-Interview-Audio None None\n",
      "PY4INF-11-Regex.mp3 Recording by Dr. Chuck Python for Informatics's official Podcast.\n",
      "PY4INF-10-Tuples.mp3 Recording by Dr. Chuck Python for Informatics's official Podcast.\n",
      "PY4INF-09-Dictionaries.mp3 Recording by Dr. Chuck Python for Informatics's official Podcast.\n",
      "PY4INF-08-Lists.mp3 Recording by Dr. Chuck Python for Informatics's official Podcast.\n",
      "PY4INF-07-Files.mp3 Recording by Dr. Chuck Python for Informatics's official Podcast.\n",
      "PY4INF-06-Strings.mp3 Recording by Dr. Chuck Python for Informatics's official Podcast.\n",
      "PY4INF-05-Iterations.mp3 Recording by Dr. Chuck Python for Informatics's official Podcast.\n",
      "PY4INF-04-Functions.mp3 Recording by Dr. Chuck Python for Informatics's official Podcast.\n",
      "PY4INF-03-Conditional.mp3 Recording by Dr. Chuck Python for Informatics's official Podcast.\n",
      "PY4INF-02-Expressions.mp3 Recording by Dr. Chuck Python for Informatics's official Podcast.\n",
      "PY4INF-01-Intro.mp3 Recording by Dr. Chuck Python for Informatics's official Podcast.\n",
      "Py4Inf-11-Regex.mp3 Recording by Dr. Chuck Python for Informatics's official Podcast.\n",
      "Py4Inf-10-Tuples.mp3 Recording by Dr. Chuck Python for Informatics's official Podcast.\n",
      "Py4Inf-09-Dictionaries.mp3 Recording by Dr. Chuck Python for Informatics's official Podcast.\n",
      "Py4Inf-08-Lists.mp3 Recording by Dr. Chuck Python for Informatics's official Podcast.\n",
      "Py4Inf-07-Files.mp3 Recording by Dr. Chuck Python for Informatics's official Podcast.\n",
      "Py4Inf-06-Strings.mp3 Recording by Dr. Chuck Python for Informatics's official Podcast.\n",
      "Py4Inf-05-Iterations.mp3 Recording by Dr. Chuck Python for Informatics's official Podcast.\n",
      "Py4Inf-04-Functions.mp3 Recording by Dr. Chuck Python for Informatics's official Podcast.\n",
      "Py4Inf-03-Conditional.mp3 Recording by Dr. Chuck Python for Informatics's official Podcast.\n",
      "Py4Inf-02-Expressions.mp3 Recording by Dr. Chuck Python for Informatics's official Podcast.\n",
      "Py4Inf-01-Intro.mp3 Recording by Dr. Chuck Python for Informatics's official Podcast.\n",
      "Python 1994 Workshop 2-HD (1080p) None None\n",
      "Python 1994 Workshop 2-HD (1080p) None None\n",
      "Ian Foster on the Globus Project IEEE Computer Society Computing Conversations\n",
      "Khan Academy and Computer Science IEEE Computer Society Computing Conversations\n",
      "Guido van Rossumon the Early Years of Python IEEE Computer Society Computing Conversations\n",
      "Guido van Rossum on the Modern Era of Python IEEE Computer Society Computing Conversations\n",
      "John Resig on Building jQuery IEEE Computer Society Computing Conversations\n",
      "Roy T. Fielding on Understanding the REST Style IEEE Computer Society Computing Conversations\n",
      "01-packets None None\n",
      "02-architecture None None\n",
      "03-link-layer None None\n",
      "04-internet-layer None None\n",
      "05-dns None None\n",
      "06-transport-layer None None\n",
      "07-application-layer None None\n",
      "08-secure-transport None None\n",
      "09-OSI None None\n",
      "10-wrap-up None None\n",
      "2015-08-Jain-01 None None\n",
      "2015-08-Jain-01 None None\n",
      "Anil Jain: 25 Years of Biometric Recognition IEEE Computer Society Computing Conversations\n",
      "Waste Management Undercover Boss Undercover Boss, Season 1\n",
      "Sleep Like a Baby Tonight U2 Songs of Innocence\n",
      "Evergreen The Black Crowes Warpaint\n",
      "Oh Josephine The Black Crowes Warpaint\n",
      "Movin' On Down the Line The Black Crowes Warpaint\n",
      "Wounded Bird The Black Crowes Warpaint\n",
      "Volcano U2 Songs of Innocence\n",
      "Wee Who See the Deep The Black Crowes Warpaint\n",
      "Cedarwood Road U2 Songs of Innocence\n",
      "Locust Street The Black Crowes Warpaint\n",
      "Raised By Wolves U2 Songs of Innocence\n",
      "The Troubles U2 Songs of Innocence\n",
      "This Is Where You Can Reach Me Now U2 Songs of Innocence\n",
      "God's Got It The Black Crowes Warpaint\n",
      "California (There Is No End to Love) U2 Songs of Innocence\n",
      "Every Breaking Wave U2 Songs of Innocence\n",
      "Interview With the Onion News Network Onion News Network Onion News Network, Season 1\n",
      "Song for Someone U2 Songs of Innocence\n",
      "The Miracle (Of Joey Ramone) U2 Songs of Innocence\n",
      "Iris (Hold Me Close) U2 Songs of Innocence\n",
      "Goodbye Daughters of the Revolution The Black Crowes Warpaint\n",
      "Walk Believer Walk The Black Crowes Warpaint\n",
      "Choice Hotels International Undercover Boss Undercover Boss, Season 2\n",
      "Microchip Jason Farnham YouTube Audio Library\n",
      "Cookies-01 None None\n",
      "Anant Agarwal IEEE Computer Society Computing Conversations\n",
      "2015 11 04 16 00 Closing Keynote The Next Generation of Teaching and Learning Tools None None\n"
     ]
    }
   ],
   "source": [
    "fname = 'data/Library.xml'\n",
    "\n",
    "# <key>Track ID</key><integer>369</integer>\n",
    "# <key>Name</key><string>Another One Bites The Dust</string>\n",
    "# <key>Artist</key><string>Queen</string>\n",
    "def lookup(d, key):\n",
    "    found = False\n",
    "    for child in d:\n",
    "        if found : return child.text\n",
    "        if child.tag == 'key' and child.text == key :\n",
    "            found = True\n",
    "    return None\n",
    "\n",
    "stuff = ET.parse(fname)\n",
    "all = stuff.findall('dict/dict/dict') # find third dict which is track\n",
    "print('Dict count:', len(all))\n",
    "for entry in all:\n",
    "    if ( lookup(entry, 'Track ID') is not None ) : \n",
    "        name = lookup(entry, 'Name') #title of track\n",
    "        artist = lookup(entry, 'Artist') # name of artist\n",
    "        album = lookup(entry, 'Album') #title of album\n",
    "    print(name, artist, album)"
   ]
  },
  {
   "cell_type": "markdown",
   "metadata": {},
   "source": [
    "## Exercise 1"
   ]
  },
  {
   "cell_type": "markdown",
   "metadata": {},
   "source": [
    "Look into the Library.xml file. All the information to fill the track database is in the xml file. Retrieve the information from the xml file and fill all the table structures. Hint: if you need enter an artist in the artist table and you want the id to use as a foreign key to the track table you can use the following code:"
   ]
  },
  {
   "cell_type": "code",
   "execution_count": 35,
   "metadata": {
    "scrolled": true
   },
   "outputs": [
    {
     "name": "stdout",
     "output_type": "stream",
     "text": [
      "plist\n",
      "{'version': '1.0'}\n"
     ]
    },
    {
     "ename": "TypeError",
     "evalue": "'str' object is not callable",
     "output_type": "error",
     "traceback": [
      "\u001b[0;31m---------------------------------------------------------------------------\u001b[0m",
      "\u001b[0;31mTypeError\u001b[0m                                 Traceback (most recent call last)",
      "\u001b[0;32m<ipython-input-35-31baf112f248>\u001b[0m in \u001b[0;36m<module>\u001b[0;34m()\u001b[0m\n\u001b[1;32m      7\u001b[0m \u001b[0;31m# print(tree.getroot().attrib.iteritems())\u001b[0m\u001b[0;34m\u001b[0m\u001b[0;34m\u001b[0m\u001b[0;34m\u001b[0m\u001b[0m\n\u001b[1;32m      8\u001b[0m \u001b[0;31m# print(all[0].iterchildren())\u001b[0m\u001b[0;34m\u001b[0m\u001b[0;34m\u001b[0m\u001b[0;34m\u001b[0m\u001b[0m\n\u001b[0;32m----> 9\u001b[0;31m \u001b[0mprint\u001b[0m\u001b[0;34m(\u001b[0m\u001b[0mall\u001b[0m\u001b[0;34m[\u001b[0m\u001b[0;36m0\u001b[0m\u001b[0;34m]\u001b[0m\u001b[0;34m.\u001b[0m\u001b[0mtag\u001b[0m\u001b[0;34m(\u001b[0m\u001b[0;34m)\u001b[0m\u001b[0;34m)\u001b[0m\u001b[0;34m\u001b[0m\u001b[0;34m\u001b[0m\u001b[0m\n\u001b[0m\u001b[1;32m     10\u001b[0m \u001b[0;34m\u001b[0m\u001b[0m\n\u001b[1;32m     11\u001b[0m \u001b[0;34m\u001b[0m\u001b[0m\n",
      "\u001b[0;31mTypeError\u001b[0m: 'str' object is not callable"
     ]
    }
   ],
   "source": [
    "conn = sqlite3.connect('track.sqlite')\n",
    "cur = conn.cursor()\n",
    "\n",
    "tree = ET.parse(fname)\n",
    "print(tree.getroot().tag)\n",
    "print(tree.getroot().attrib)\n",
    "# print(tree.getroot().attrib.iteritems())\n",
    "# print(all[0].iterchildren())\n",
    "print(all[0].tag())\n",
    "\n",
    "\n",
    "\n",
    "# cur.execute('SELECT id FROM Artist WHERE name = ? ', (artist, ))\n",
    "# artist_id = cur.fetchone()[0]"
   ]
  },
  {
   "cell_type": "markdown",
   "metadata": {},
   "source": [
    "Check with https://sqlitebrowser.org/ if you succeeded. Make sure that you commit to confirm the transactions"
   ]
  },
  {
   "cell_type": "markdown",
   "metadata": {},
   "source": [
    "## Exercise 2\n",
    "\n",
    "In the following url you find an xml file with plant information. Try to fetch the data and retrieve the information. Put it in a pandas dataframe. Remember to decode the data if you retrieve it directly from the web."
   ]
  },
  {
   "cell_type": "code",
   "execution_count": null,
   "metadata": {},
   "outputs": [],
   "source": [
    "url = 'https://bioinf.nl/~fennaf/DSLS/plants.xml'"
   ]
  }
 ],
 "metadata": {
  "kernelspec": {
   "display_name": "Python 3",
   "language": "python",
   "name": "python3"
  },
  "language_info": {
   "codemirror_mode": {
    "name": "ipython",
    "version": 3
   },
   "file_extension": ".py",
   "mimetype": "text/x-python",
   "name": "python",
   "nbconvert_exporter": "python",
   "pygments_lexer": "ipython3",
   "version": "3.7.3"
  }
 },
 "nbformat": 4,
 "nbformat_minor": 2
}
