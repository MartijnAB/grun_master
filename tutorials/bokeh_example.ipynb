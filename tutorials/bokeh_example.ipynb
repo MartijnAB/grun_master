{
  "cells": [
    {
      "metadata": {},
      "cell_type": "markdown",
      "source": "Plotting data in basic Python lists as a line plot including zoom, pan, save, and other tools is simple and straightforward:"
    },
    {
      "metadata": {
        "trusted": true
      },
      "cell_type": "code",
      "source": "import pandas as pd\nfile = 'KNMI_20190612.txt'\ndf = pd.read_csv('data/{}.tsv'.format(file), skiprows = 48, low_memory=False)\n\ndf1 = df.iloc[:,1:15]\ndf1.columns = ['YYYYMMDD','DDVEC','FHVEC','FG','FHX','FHXH','FHN','FHNH','FXX','FXXH','TG','TN','TNH','TX']\ndf1.head()",
      "execution_count": 1,
      "outputs": [
        {
          "output_type": "execute_result",
          "execution_count": 1,
          "data": {
            "text/html": "<div>\n<table border=\"1\" class=\"dataframe\">\n  <thead>\n    <tr style=\"text-align: right;\">\n      <th></th>\n      <th>YYYYMMDD</th>\n      <th>DDVEC</th>\n      <th>FHVEC</th>\n      <th>FG</th>\n      <th>FHX</th>\n      <th>FHXH</th>\n      <th>FHN</th>\n      <th>FHNH</th>\n      <th>FXX</th>\n      <th>FXXH</th>\n      <th>TG</th>\n      <th>TN</th>\n      <th>TNH</th>\n      <th>TX</th>\n    </tr>\n  </thead>\n  <tbody>\n    <tr>\n      <th>0</th>\n      <td>19830601</td>\n      <td>166</td>\n      <td>21</td>\n      <td>36</td>\n      <td>62</td>\n      <td>13</td>\n      <td>5</td>\n      <td>23</td>\n      <td>129</td>\n      <td>13</td>\n      <td>192</td>\n      <td>138</td>\n      <td>5</td>\n      <td>250</td>\n    </tr>\n    <tr>\n      <th>1</th>\n      <td>19830602</td>\n      <td>213</td>\n      <td>31</td>\n      <td>31</td>\n      <td>51</td>\n      <td>10</td>\n      <td>10</td>\n      <td>1</td>\n      <td>98</td>\n      <td>14</td>\n      <td>144</td>\n      <td>102</td>\n      <td>24</td>\n      <td>180</td>\n    </tr>\n    <tr>\n      <th>2</th>\n      <td>19830603</td>\n      <td>214</td>\n      <td>15</td>\n      <td>21</td>\n      <td>31</td>\n      <td>3</td>\n      <td>10</td>\n      <td>17</td>\n      <td>72</td>\n      <td>13</td>\n      <td>155</td>\n      <td>100</td>\n      <td>2</td>\n      <td>204</td>\n    </tr>\n    <tr>\n      <th>3</th>\n      <td>19830604</td>\n      <td>241</td>\n      <td>15</td>\n      <td>31</td>\n      <td>62</td>\n      <td>12</td>\n      <td>5</td>\n      <td>1</td>\n      <td>103</td>\n      <td>12</td>\n      <td>176</td>\n      <td>124</td>\n      <td>2</td>\n      <td>240</td>\n    </tr>\n    <tr>\n      <th>4</th>\n      <td>19830605</td>\n      <td>18</td>\n      <td>26</td>\n      <td>31</td>\n      <td>62</td>\n      <td>21</td>\n      <td>5</td>\n      <td>7</td>\n      <td>113</td>\n      <td>21</td>\n      <td>151</td>\n      <td>88</td>\n      <td>24</td>\n      <td>210</td>\n    </tr>\n  </tbody>\n</table>\n</div>",
            "text/plain": "   YYYYMMDD  DDVEC  FHVEC  FG  FHX  FHXH  FHN  FHNH    FXX   FXXH   TG   TN  \\\n0  19830601    166     21  36   62    13    5    23    129     13  192  138   \n1  19830602    213     31  31   51    10   10     1     98     14  144  102   \n2  19830603    214     15  21   31     3   10    17     72     13  155  100   \n3  19830604    241     15  31   62    12    5     1    103     12  176  124   \n4  19830605     18     26  31   62    21    5     7    113     21  151   88   \n\n   TNH   TX  \n0    5  250  \n1   24  180  \n2    2  204  \n3    2  240  \n4   24  210  "
          },
          "metadata": {}
        }
      ]
    },
    {
      "metadata": {
        "trusted": true
      },
      "cell_type": "code",
      "source": "from bokeh.plotting import figure, output_file, show\n\n\n# prepare some data\nx = range(0, len(df1))\ny = df1['TG']/10\n\n\n# output to static HTML file\noutput_file(\"lines.html\")\n\n# create a new plot with a title and axis labels\np = figure(title=\"simple line example\", x_axis_label='day', y_axis_label='degrees celcius')\n\n# add a line renderer with legend and line thickness\np.line(x, y, legend=\"Temp.\", line_width=2)\n\n# show the results\nshow(p)\n",
      "execution_count": 2,
      "outputs": []
    },
    {
      "metadata": {
        "trusted": true
      },
      "cell_type": "code",
      "source": "",
      "execution_count": null,
      "outputs": []
    }
  ],
  "metadata": {
    "kernelspec": {
      "name": "python3",
      "display_name": "Python 3",
      "language": "python"
    },
    "language_info": {
      "mimetype": "text/x-python",
      "nbconvert_exporter": "python",
      "name": "python",
      "pygments_lexer": "ipython3",
      "version": "3.5.4",
      "file_extension": ".py",
      "codemirror_mode": {
        "version": 3,
        "name": "ipython"
      }
    }
  },
  "nbformat": 4,
  "nbformat_minor": 2
}