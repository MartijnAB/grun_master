{
 "cells": [
  {
   "cell_type": "markdown",
   "metadata": {},
   "source": [
    "# Combine data to investigate a hypothesis\n",
    "\n",
    "This week we are going to investigate the health risks value of towns. We would like to compare towns that have the most highest temperature with other towns in the Unitied States. The hypothesis is that the health risk value is less for towns with higher temperature compared to ordinary towns. In particular the risk related to 'Adult Binge Drinking'. For this we need two datasets. The dataset of hottest towns and the dataset of USHealth_data.csv. The end goal is to run a t-test of towns in the category 'hot town' compared to 'not hot town'. Before we can do such we first need to clean, organize and merge the data. The column 'Value' for instance contains not all float type data."
   ]
  },
  {
   "cell_type": "markdown",
   "metadata": {},
   "source": [
    "## Step 1 Fetch and clean hottest towns data\n",
    "Fetch from \"data/hottest_towns.txt\" a list of hottest towns. The data needs to be put in a DataFrame. The format of the DataFrame should be: \t\n",
    "\n",
    "    day \tCity \t State\n",
    "    107 \tPhoenix   Arizona\n",
    "     70     Las Vegas Nevada\n",
    "\n",
    "This means that some columns need to be splitted, some rows need to be skipped and some columns need to be renamed.\n",
    "source: https://currentresults.com/Weather-Extremes/US/hottest-cities.php"
   ]
  },
  {
   "cell_type": "code",
   "execution_count": 15,
   "metadata": {
    "scrolled": true
   },
   "outputs": [
    {
     "data": {
      "text/html": [
       "<div>\n",
       "<table border=\"1\" class=\"dataframe\">\n",
       "  <thead>\n",
       "    <tr style=\"text-align: right;\">\n",
       "      <th></th>\n",
       "      <th>City</th>\n",
       "      <th>days</th>\n",
       "      <th>State</th>\n",
       "    </tr>\n",
       "  </thead>\n",
       "  <tbody>\n",
       "    <tr>\n",
       "      <th>0</th>\n",
       "      <td>Austin</td>\n",
       "      <td>16</td>\n",
       "      <td>Texas</td>\n",
       "    </tr>\n",
       "    <tr>\n",
       "      <th>1</th>\n",
       "      <td>Dallas</td>\n",
       "      <td>17</td>\n",
       "      <td>Texas</td>\n",
       "    </tr>\n",
       "    <tr>\n",
       "      <th>2</th>\n",
       "      <td>Houston</td>\n",
       "      <td>4</td>\n",
       "      <td>Texas</td>\n",
       "    </tr>\n",
       "    <tr>\n",
       "      <th>3</th>\n",
       "      <td>Kansas City</td>\n",
       "      <td>3</td>\n",
       "      <td>Missouri</td>\n",
       "    </tr>\n",
       "    <tr>\n",
       "      <th>4</th>\n",
       "      <td>Las Vegas</td>\n",
       "      <td>70</td>\n",
       "      <td>Nevada</td>\n",
       "    </tr>\n",
       "    <tr>\n",
       "      <th>5</th>\n",
       "      <td>Oklahoma City</td>\n",
       "      <td>11</td>\n",
       "      <td>Oklahoma</td>\n",
       "    </tr>\n",
       "    <tr>\n",
       "      <th>6</th>\n",
       "      <td>Phoenix</td>\n",
       "      <td>107</td>\n",
       "      <td>Arizona</td>\n",
       "    </tr>\n",
       "    <tr>\n",
       "      <th>7</th>\n",
       "      <td>Riverside</td>\n",
       "      <td>24</td>\n",
       "      <td>California</td>\n",
       "    </tr>\n",
       "    <tr>\n",
       "      <th>8</th>\n",
       "      <td>Sacramento</td>\n",
       "      <td>11</td>\n",
       "      <td>California</td>\n",
       "    </tr>\n",
       "    <tr>\n",
       "      <th>9</th>\n",
       "      <td>Salt Lake City</td>\n",
       "      <td>5</td>\n",
       "      <td>Utah</td>\n",
       "    </tr>\n",
       "    <tr>\n",
       "      <th>10</th>\n",
       "      <td>San Antonio</td>\n",
       "      <td>8</td>\n",
       "      <td>Texas</td>\n",
       "    </tr>\n",
       "  </tbody>\n",
       "</table>\n",
       "</div>"
      ],
      "text/plain": [
       "              City  days         State\n",
       "0           Austin    16        Texas \n",
       "1           Dallas    17        Texas \n",
       "2          Houston     4        Texas \n",
       "3      Kansas City     3     Missouri \n",
       "4        Las Vegas    70       Nevada \n",
       "5    Oklahoma City    11     Oklahoma \n",
       "6          Phoenix   107      Arizona \n",
       "7        Riverside    24   California \n",
       "8       Sacramento    11   California \n",
       "9   Salt Lake City     5         Utah \n",
       "10     San Antonio     8        Texas "
      ]
     },
     "execution_count": 15,
     "metadata": {},
     "output_type": "execute_result"
    }
   ],
   "source": [
    "def answer_one():\n",
    "    pass\n",
    "    \n",
    "df = answer_one()\n",
    "\n",
    "df"
   ]
  },
  {
   "cell_type": "code",
   "execution_count": 16,
   "metadata": {},
   "outputs": [
    {
     "data": {
      "text/plain": [
       "['Austin',\n",
       " 'Dallas',\n",
       " 'Houston',\n",
       " 'Kansas City',\n",
       " 'Las Vegas',\n",
       " 'Oklahoma City',\n",
       " 'Phoenix',\n",
       " 'Riverside',\n",
       " 'Sacramento',\n",
       " 'Salt Lake City',\n",
       " 'San Antonio']"
      ]
     },
     "execution_count": 16,
     "metadata": {},
     "output_type": "execute_result"
    }
   ],
   "source": [
    "x = df['City'].unique().tolist()\n",
    "x"
   ]
  },
  {
   "cell_type": "markdown",
   "metadata": {},
   "source": [
    "## Step 2: fetch the health data\n",
    "\n",
    "Download from http://www.bigcitieshealth.org/obesity-physical-activity the complete dataset. Split the Place column into a column \"State\" and a column \"City\". using the dictionary below. "
   ]
  },
  {
   "cell_type": "code",
   "execution_count": 25,
   "metadata": {},
   "outputs": [],
   "source": [
    "# Use this dictionary to map state names to two letter acronyms\n",
    "states = {'OH': 'Ohio', 'KY': 'Kentucky', 'AS': 'American Samoa', 'NV': 'Nevada', 'WY': 'Wyoming', 'NA': 'National', 'AL': 'Alabama', 'MD': 'Maryland', 'AK': 'Alaska', 'UT': 'Utah', 'OR': 'Oregon', 'MT': 'Montana', 'IL': 'Illinois', 'TN': 'Tennessee', 'DC': 'District of Columbia', 'VT': 'Vermont', 'ID': 'Idaho', 'AR': 'Arkansas', 'ME': 'Maine', 'WA': 'Washington', 'HI': 'Hawaii', 'WI': 'Wisconsin', 'MI': 'Michigan', 'IN': 'Indiana', 'NJ': 'New Jersey', 'AZ': 'Arizona', 'GU': 'Guam', 'MS': 'Mississippi', 'PR': 'Puerto Rico', 'NC': 'North Carolina', 'TX': 'Texas', 'SD': 'South Dakota', 'MP': 'Northern Mariana Islands', 'IA': 'Iowa', 'MO': 'Missouri', 'CT': 'Connecticut', 'WV': 'West Virginia', 'SC': 'South Carolina', 'LA': 'Louisiana', 'KS': 'Kansas', 'NY': 'New York', 'NE': 'Nebraska', 'OK': 'Oklahoma', 'FL': 'Florida', 'CA': 'California', 'CO': 'Colorado', 'PA': 'Pennsylvania', 'DE': 'Delaware', 'NM': 'New Mexico', 'RI': 'Rhode Island', 'MN': 'Minnesota', 'VI': 'Virgin Islands', 'NH': 'New Hampshire', 'MA': 'Massachusetts', 'GA': 'Georgia', 'ND': 'North Dakota', 'VA': 'Virginia'}"
   ]
  },
  {
   "cell_type": "markdown",
   "metadata": {},
   "source": [
    "Tip:  use the `map()` method of pandas (see an example below)"
   ]
  },
  {
   "cell_type": "code",
   "execution_count": 18,
   "metadata": {
    "scrolled": true
   },
   "outputs": [
    {
     "name": "stdout",
     "output_type": "stream",
     "text": [
      "      A  B\n",
      "0  7001  1\n",
      "1  8001  2\n",
      "2  9001  3\n"
     ]
    }
   ],
   "source": [
    "import pandas as pd\n",
    "equiv = {'7001':'1', '8001':'2', '9001':'3'}\n",
    "df = pd.DataFrame( {\"A\": ['7001', '8001', '9001']} )\n",
    "df[\"B\"] = df[\"A\"].map(equiv)\n",
    "print(df)"
   ]
  },
  {
   "cell_type": "code",
   "execution_count": null,
   "metadata": {},
   "outputs": [],
   "source": [
    "def answer_two():\n",
    "    pass\n",
    "\n",
    "answer_two()"
   ]
  },
  {
   "cell_type": "markdown",
   "metadata": {},
   "source": [
    "## Step3: Merge both datasets. \n",
    "First check if all the names in the City and State are the same as in the hottest town list. There are some issues. Las Vegas in hootest twon differs from Las Vegas in the health database for instance. \n",
    "\n",
    "Hint: with `df['City'].unique().tolist()` you can create a list of all the City's. With regex and replace you can rename the content. \n",
    "\n",
    "Then join the datasets on City and State. Drop all the rows from that have NaN in the 'Value' column. \n"
   ]
  },
  {
   "cell_type": "code",
   "execution_count": null,
   "metadata": {},
   "outputs": [],
   "source": [
    "def answer_three():\n",
    "    pass\n",
    "\n",
    "answer_three()"
   ]
  },
  {
   "cell_type": "markdown",
   "metadata": {},
   "source": [
    "## Step4: Create a dataset without the hottest towns\n",
    "\n",
    "Now we need to create the second dataset without the hottest towns. Read the https://pandas.pydata.org/pandas-docs/stable/reference/api/pandas.DataFrame.where.html documentation to get some ideas how to do such. \n"
   ]
  },
  {
   "cell_type": "code",
   "execution_count": null,
   "metadata": {},
   "outputs": [],
   "source": [
    "def answer_four():\n",
    "    pass\n",
    "\n",
    "answer_four()"
   ]
  },
  {
   "cell_type": "markdown",
   "metadata": {},
   "source": [
    "## Step5: Run the hypothesis-test: \n",
    "\n",
    "#### Check for normality\n",
    "Before you conduct a hypothesis test to test for mean difference you need to consider a few things. Is the data normal distributed? Plot the data and run some statistical tests to investigate this. If not what is causing skews or outliers? Dive into you data to understand the distribution. Is additional cleaning needed? \n",
    "\n",
    "#### Check for equal variance\n",
    "The next thing you need to consider is the variance. Is the variance equal or not? Plot data and run some statistical test to investigate this. \n",
    "\n",
    "#### Hypothesis test\n",
    "Use an appropiate hypothesis test to test for difference of Value. \n",
    "\n",
    "\n",
    "First run the hypothesis test for the complete dataset. Afterwards repeat the t-test with a subset of the dataset: the Adult Binge Drinking. "
   ]
  },
  {
   "cell_type": "code",
   "execution_count": null,
   "metadata": {},
   "outputs": [],
   "source": [
    "def answer_ttest():\n",
    "    pass\n",
    "\n",
    "answer_ttest()"
   ]
  }
 ],
 "metadata": {
  "kernelspec": {
   "display_name": "Python 3",
   "language": "python",
   "name": "python3"
  },
  "language_info": {
   "codemirror_mode": {
    "name": "ipython",
    "version": 3
   },
   "file_extension": ".py",
   "mimetype": "text/x-python",
   "name": "python",
   "nbconvert_exporter": "python",
   "pygments_lexer": "ipython3",
   "version": "3.7.4"
  }
 },
 "nbformat": 4,
 "nbformat_minor": 2
}
