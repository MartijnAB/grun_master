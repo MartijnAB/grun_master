{
  "cells": [
    {
      "metadata": {},
      "cell_type": "markdown",
      "source": "# Plotting Streaming data using bokeh\n"
    },
    {
      "metadata": {},
      "cell_type": "markdown",
      "source": "This week we will focus on time series plotting. We will fetch the streaming data from https://openweathermap.org and plot the moving average of the temperature per hour, updated every minute. This means that we will calculate every minute the average of the past sixty minutes and plot that datapoint. We use dummy data first and finally real streaming data. A requirement is to use Bokeh. Below you find some example code. You need to request your own API key at https://openweathermap.org"
    },
    {
      "metadata": {
        "trusted": false
      },
      "cell_type": "code",
      "source": "import requests\nimport json\n\n# API KEY\nAPI_key = \"9a4bd3520a281073413e444c8fda3a59\"\n\n# url\nbase_url = \"http://api.openweathermap.org/data/2.5/weather?\"\n\n# groningen\ncity_id = '2755250' \n\nurl = base_url + \"appid=\" + API_key + \"&id=\" + city_id\n\n# getting JSON data which the API returns\nx = requests.get(url).json()\nprint(x)\ntry: \n    y = x[\"main\"] \n    current_humidiy = y[\"humidity\"] \n    print(\"\\n humidity (in percentage) = \" + str(current_humidiy)) \nexcept: \n    print(\" City Not Found \") \n",
      "execution_count": 7,
      "outputs": [
        {
          "name": "stdout",
          "output_type": "stream",
          "text": "{'coord': {'lon': 6.55, 'lat': 53.2}, 'weather': [{'id': 521, 'main': 'Rain', 'description': 'shower rain', 'icon': '09n'}], 'base': 'stations', 'main': {'temp': 287.2, 'pressure': 1007, 'humidity': 93, 'temp_min': 286.48, 'temp_max': 288.71}, 'visibility': 6000, 'wind': {'speed': 6.7, 'deg': 240}, 'rain': {'1h': 2.03}, 'clouds': {'all': 90}, 'dt': 1558902107, 'sys': {'type': 1, 'id': 1530, 'message': 0.0073, 'country': 'NL', 'sunrise': 1558840797, 'sunset': 1558899719}, 'timezone': 7200, 'id': 2755250, 'name': 'Gemeente Groningen', 'cod': 200}\n\n humidity (in percentage) = 93\n"
        }
      ]
    },
    {
      "metadata": {
        "trusted": false
      },
      "cell_type": "code",
      "source": "#step 1: get the API key\n#step 2: build a listener building a dataframe with timestamp and temperature (listen a day)\n#step 3: meanwhile use numpy to generate random data (timestamps and temperature)\n#step 3: plot timeseries moving average per hour using generated data\n#step 4: use bokeh to make to plot the data from the listener interactive",
      "execution_count": null,
      "outputs": []
    },
    {
      "metadata": {},
      "cell_type": "markdown",
      "source": "## documentation hints:\n\nhttps://bokeh.pydata.org/en/latest/\n\nhttps://github.com/pedromartins4/bokeh-stock-market\n"
    }
  ],
  "metadata": {
    "kernelspec": {
      "name": "python3",
      "display_name": "Python 3",
      "language": "python"
    },
    "language_info": {
      "mimetype": "text/x-python",
      "nbconvert_exporter": "python",
      "name": "python",
      "file_extension": ".py",
      "version": "3.5.4",
      "pygments_lexer": "ipython3",
      "codemirror_mode": {
        "version": 3,
        "name": "ipython"
      }
    }
  },
  "nbformat": 4,
  "nbformat_minor": 2
}