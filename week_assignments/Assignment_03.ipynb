{
  "cells": [
    {
      "metadata": {},
      "cell_type": "markdown",
      "source": "## Assignment: Visualization of temperature trend of North Netherlands 2008 - 2017\n\nIn this assignment we will work with weather data from the KNMI. A subset of weatherdata is for you available in the file: `KNMI_20181231.txt.tsv`\n\nFor this assignment, you must:\n\n\n1. Familiarize yourself with the dataset\n2. Clean the data by removing the header, the empty records and the leap year (i.e. February 29th) points (for the purpose of this visualization)\n3. Make a subset of the stations from North Netherland. This should look something like this\n\n               station     \tDate \tTmin \tTmax \t\n        97642 \t270 \t2000-01-01 \t-0.4 \t7.9 \t\n        97643 \t270 \t2000-01-02 \t 3.3 \t7.4 \t\n        97644 \t270 \t2000-01-03 \t 4.9 \t8.9 \t\n        97645 \t270 \t2000-01-04 \t 2.2 \t7.5 \t\n\n\n4. Write python code which returns a line graph displaying high and low temperature from January till December. Data of multiple years will be combined. Use for the graph the data from the period 2009-2018. \n5. The area between the record high and record low temperatures for each day should be shaded.\n6. Overlay a scatter of the 2018 data with the month records (high and low)\n7. Make the visual nice! Consider visualization principles when developing your solution. Consider issues such as legends, labels, use of colors. An example you can find below. You do not have to make an exact copy\n\n<img src=\"images/weather.png\" alt=\"weather\" width=\"500\" height=\"500\" align = \"left\">"
    },
    {
      "metadata": {
        "trusted": false
      },
      "cell_type": "code",
      "source": "import numpy as np\nimport pandas as pd\nimport matplotlib.pyplot as plt\nfrom matplotlib.ticker import NullFormatter\nfrom matplotlib.dates import MonthLocator, DateFormatter\n",
      "execution_count": 3,
      "outputs": []
    },
    {
      "metadata": {
        "scrolled": false,
        "trusted": false
      },
      "cell_type": "code",
      "source": "#read the data with a nice header\n#select stations\n#make nice datetime format\n#change to degrees Celcius\n#add column month-day\n#remove leap year\n#select years 2008-2017\n#select year 2018\n#determine month min and month maximum temperature",
      "execution_count": 4,
      "outputs": []
    },
    {
      "metadata": {
        "trusted": false
      },
      "cell_type": "code",
      "source": "# plot data\nplt.figure()\n#use plt.gca().fill_between\n\n#set axis\nplt.gca().axis([-5, 370, -20, 30])\n# use plt.legend()\n# make nice month xaxis\n# make professional layout\n\nfor spine in ax.spines.values():\n        spine.set_edgecolor('grey')\n        \nax.spines['top'].set_visible(False)\nax.spines['right'].set_visible(False)\n\nplt.show()\n\n",
      "execution_count": 15,
      "outputs": [
        {
          "data": {
            "image/png": "[encoded data removed]",
            "text/plain": "<matplotlib.figure.Figure at 0x120c5f6d8>"
          },
          "metadata": {},
          "output_type": "display_data"
        }
      ]
    },
    {
      "metadata": {},
      "cell_type": "markdown",
      "source": "## Challenge 01\n\nPlot with bokeh a temperature plot of a specific period"
    },
    {
      "metadata": {},
      "cell_type": "markdown",
      "source": "## Challenge 02\n\nTry to fit the data in a model with a polyfit function"
    }
  ],
  "metadata": {
    "kernelspec": {
      "name": "python3",
      "display_name": "Python 3",
      "language": "python"
    },
    "language_info": {
      "mimetype": "text/x-python",
      "nbconvert_exporter": "python",
      "name": "python",
      "file_extension": ".py",
      "version": "3.5.4",
      "pygments_lexer": "ipython3",
      "codemirror_mode": {
        "version": 3,
        "name": "ipython"
      }
    }
  },
  "nbformat": 4,
  "nbformat_minor": 2
}