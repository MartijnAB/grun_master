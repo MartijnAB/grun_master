{
  "cells": [
    {
      "metadata": {},
      "cell_type": "markdown",
      "source": "## Final Assignment"
    },
    {
      "metadata": {},
      "cell_type": "markdown",
      "source": "\nBefore working on this assignment please read these instructions fully. Use blackboard to submit a link to your repository. \n\nOn blackboard your find the assessment criteria. Please familiarize yourself with the criteria before beginning the assignment.\n\nThis assignment requires that you to find at least two datasets on the web which are related, and that you build an application that visualize these datasets to answer a research question with the broad topic of **health** or **agriculture** in the **region where you were born**. The region can be a city, town or a provence.  \n\nThe research question should be a question with a causual nature. For instance questions like: How does independent variable X influence the dependent variable of Y?\n\nThe application should be build according the SOLID principles and relevant Design Patterns. Also identify the most critical part and write a unit test for this part. Take into account the performance of the dataprocessing"
    },
    {
      "metadata": {},
      "cell_type": "markdown",
      "source": "### About the data\n\nYou can merge these datasets with data from different regions if you like. For instance, you might want to compare the health effect of earhtquacks in Groningen versus Los Angelos USA. \n\nYou are welcome to choose datasets at your discretion, but keep in mind they will be shared with others, so choose appropriate datasets. You are welcome to use datasets of your own as well, but minimual two datasets should be coming from the web and or API's. \n\nAlso, you are welcome to preserve data in its original language, but for the purposes of grading you should provide english translations in your visualization. "
    },
    {
      "metadata": {},
      "cell_type": "markdown",
      "source": "### Instructions:\n\nDefine a research question, select data and code your data acquisition, data analysis and visualization. Use a repository with a commit strategy. \n\nWrite a small document with the following:\n- State the region and the domain category that your data sets are about \n- State the research question \n- Justify the chosen SOLID principles and Design Patterns\n- Justify the chosen data storage strategy and data layer strategy\n\nUpload your document and the link of your repository to black board"
    }
  ],
  "metadata": {
    "kernelspec": {
      "name": "python3",
      "display_name": "Python 3",
      "language": "python"
    },
    "language_info": {
      "mimetype": "text/x-python",
      "nbconvert_exporter": "python",
      "name": "python",
      "pygments_lexer": "ipython3",
      "version": "3.5.4",
      "file_extension": ".py",
      "codemirror_mode": {
        "version": 3,
        "name": "ipython"
      }
    }
  },
  "nbformat": 4,
  "nbformat_minor": 2
}