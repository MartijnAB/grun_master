{
  "cells": [
    {
      "metadata": {},
      "cell_type": "markdown",
      "source": "##  Fourier Analysis\n\n\n\nNumpy has a function `numpy.fft.fft()` that computes the fourier transformation given a signal. In the examples below the signal is a vector `x` and the fourier transformation is a vector `y`. Several signals `x` are generated to demonstrate the working of the function\n"
    },
    {
      "metadata": {
        "trusted": true
      },
      "cell_type": "code",
      "source": "import numpy as np\nimport matplotlib.pyplot as plt\n\ndef show(ori_func, ft, sampling_period = 5):\n    n = len(ori_func)\n    interval = sampling_period / n\n    plt.subplot(2, 1, 1)\n    plt.plot(np.arange(0, sampling_period, interval), ori_func, 'black')\n    plt.xlabel(\"Time\"), plt.ylabel(\"Amplitude\")\n    plt.subplot(2,1,2)\n    frequency = np.arange(n /2) / (n * interval)\n    nfft = abs(ft[range(int(n / 2))] / n )\n    plt.plot(frequency, nfft, 'red')\n    plt.xlabel('Freq (Hz)'), plt.ylabel('Amp. Spectrum')\n    plt.show()",
      "execution_count": null,
      "outputs": []
    },
    {
      "metadata": {
        "trusted": true
      },
      "cell_type": "code",
      "source": "time = np.arange(0,5, .005)\nx = np.sin(2 * np.pi * 1 * time)\ny = np.fft.fft(x)\nshow(x, y)",
      "execution_count": null,
      "outputs": []
    },
    {
      "metadata": {
        "trusted": true
      },
      "cell_type": "code",
      "source": "x2 = np.sin(2 * np.pi * 10 * time)\nx3 = np.sin(2 * np.pi * 30 * time)\nx = x2 + x3\ny = np.fft.fft(x)\nshow(x, y)",
      "execution_count": null,
      "outputs": []
    },
    {
      "metadata": {
        "trusted": true
      },
      "cell_type": "code",
      "source": "x = np.zeros(len(time))\nx[::20] = 1\ny = np.fft.fft(x)\nshow(x, y)",
      "execution_count": null,
      "outputs": []
    },
    {
      "metadata": {
        "trusted": true
      },
      "cell_type": "code",
      "source": "x = np.zeros(len(time))\nx[380:400] = np.arange(0, 1, .05)\nx[400:420] = np.arange(1, 0, -.05)\ny = np.fft.fft(x)\nshow(x, y)",
      "execution_count": null,
      "outputs": []
    },
    {
      "metadata": {
        "trusted": true
      },
      "cell_type": "code",
      "source": "x = np.random.random(100)\ny = np.fft.fft(x)\nshow(x, y)",
      "execution_count": null,
      "outputs": []
    },
    {
      "metadata": {},
      "cell_type": "markdown",
      "source": "Basically the `numpy.fft.fft()` function computes the aproximately the `DFT`. Whereas the `numpy.fft.ifft()` computes the inverse `iDFT`. We can verify this with `np.allclose()` which should return 'True' in case of similar outcome"
    },
    {
      "metadata": {
        "trusted": true
      },
      "cell_type": "code",
      "source": "x = np.random.random(500)\nn = len(x)\nm = np.arange(n)\nk = m.reshape(n, 1)\nM = np.exp(-2j * np.pi * k * m / n)\ny = np.dot(M, x)\n\nnp.allclose(y, np.fft.fft(x))",
      "execution_count": null,
      "outputs": []
    },
    {
      "metadata": {},
      "cell_type": "markdown",
      "source": "## Assignment 1\n\nCompute the inverse fast fourier transformation manually and compare the outcome to the `numpy.fft.ifft()` function"
    },
    {
      "metadata": {},
      "cell_type": "markdown",
      "source": "## Application of multiple array fourier transformation: The MRI\n\nThere are many more functions in np.fft we can use for signal analysis. For instance the multi-dimensional signals. So far we used an array of values but in case of a matrix or an image we have to use more dimensions. We can use the `np.fft.fft2()` function for 2 dimensional arrays and `np.fft.fftn()` function for mutiple dimension arrays. An apllication for instance is an image. First we have to convert an RGB image to a gray_scale. Then we can conduct the fourier transformation to show the spectrum. But in the MRI this principle is the other way around. We use a spectrum signal to convert it to an image. "
    },
    {
      "metadata": {
        "trusted": true
      },
      "cell_type": "code",
      "source": "help(np.fft)",
      "execution_count": null,
      "outputs": []
    },
    {
      "metadata": {},
      "cell_type": "markdown",
      "source": "Consider the shift routine `np.fft.fftshift`. With a shift routine we shift the zero-frequency component to the center of the spectrum. The inverse function is the ifftshift"
    },
    {
      "metadata": {
        "trusted": true
      },
      "cell_type": "code",
      "source": "help(np.fft.fftshift)",
      "execution_count": null,
      "outputs": []
    },
    {
      "metadata": {},
      "cell_type": "markdown",
      "source": "[Magnetic Resonance Imaging](https://nl.wikipedia.org/wiki/Magnetic_resonance_imaging) images are acquired in a format that closely corresponds with the Fourier transform of an image. That is, the receiving antenna in an MRI-scanner picks up radiowave-frequencies and -phases that correspond with the intensity of an image at different positions. It is beyond the scope of this notebook to explain this more fully, but look up the concept of [$k$-space](http://mriquestions.com/what-is-k-space.html) in the context of MRI to learn more.\n\nBelow, the acquired $k$-space data of an MRI image is loaded in the form of a pair of 2D `numpy` arrays that represent the real and imaginary parts of the image spectra."
    },
    {
      "metadata": {
        "trusted": true
      },
      "cell_type": "code",
      "source": "import numpy as np\n\nkspace = np.load('kspace.npz')\nprint('re: ', type(kspace['re']), kspace['re'].shape, kspace['re'].dtype)\nprint('im: ', type(kspace['im']), kspace['im'].shape, kspace['im'].dtype)",
      "execution_count": null,
      "outputs": []
    },
    {
      "metadata": {
        "trusted": true
      },
      "cell_type": "code",
      "source": "kspace['re']",
      "execution_count": null,
      "outputs": []
    },
    {
      "metadata": {
        "trusted": true
      },
      "cell_type": "code",
      "source": "kspace['im']",
      "execution_count": null,
      "outputs": []
    },
    {
      "metadata": {
        "trusted": true
      },
      "cell_type": "code",
      "source": "1j * kspace['im']",
      "execution_count": null,
      "outputs": []
    },
    {
      "metadata": {},
      "cell_type": "markdown",
      "source": "Based on the above we can plot the real `kspace['re']` and imaginary spectra `kspace['im']`. We use a logarithmic scale to account for the large differences in order of magnitudes. `plt.imshow(np.log10(np.abs(kspace['re'])))`"
    },
    {
      "metadata": {
        "scrolled": true,
        "trusted": true
      },
      "cell_type": "code",
      "source": "%matplotlib notebook\n\nplt.figure(figsize=(12,4))\nplt.subplot(1, 2, 1)\nplt.imshow(np.log10(np.abs(kspace['re'])), vmin=0.0, vmax=3.0, cmap = plt.cm.hot)\nplt.colorbar()\nplt.subplot(1, 2, 2)\nplt.imshow(np.log10(np.abs(kspace['im'])), vmin=0.0, vmax=3.0, cmap = plt.cm.hot)\nplt.colorbar()\nplt.show()",
      "execution_count": null,
      "outputs": []
    },
    {
      "metadata": {},
      "cell_type": "markdown",
      "source": "To transform the spectrum signal to an image we have to combine these real and imaginary spectra into a single complex signal and transform this back into image space using the Fourier transformation method. "
    },
    {
      "metadata": {},
      "cell_type": "markdown",
      "source": "## Assignment 2: can you identify the organ that has been imaged?\n\nYour job is to write the code that combine these real and imaginary spectra into a single complex signal and transform this back into image space using the Fourier transformation method."
    },
    {
      "metadata": {
        "trusted": true
      },
      "cell_type": "code",
      "source": "%matplotlib notebook\nksp = \"put your code here to combine re and im\"\nimg = \"put your code here to do the inverse transformation\"\nplt.imshow(img, cmap=plt.cm.gray)\nplt.colorbar()\nplt.show()",
      "execution_count": null,
      "outputs": []
    },
    {
      "metadata": {},
      "cell_type": "markdown",
      "source": "Finally, investigate what happens if you crop the spectrum in $k$-space to only the central 64 $\\times$ 64 pixels (use the central 64 $\\times$ 64 as window) , or if you window the image in $k$-space by multiplying it with e.g. a gaussian window in both the $x$- and $y$-directions."
    },
    {
      "metadata": {
        "trusted": true
      },
      "cell_type": "code",
      "source": "img = \"crop the spectrum in 𝑘 -space to only the central 64  ×  64 pixel\"\nplt.imshow(img, cmap=plt.cm.gray)\nplt.colorbar()\nplt.show()",
      "execution_count": null,
      "outputs": []
    },
    {
      "metadata": {
        "trusted": true
      },
      "cell_type": "code",
      "source": "x, y = np.meshgrid(np.arange(-256, 256), np.arange(-256, 256))\nsigma = 16\ngaussian = np.exp(-(x*x+y*y)/(2*sigma*sigma))\nimg = \"window the image in $k$-space by multiplying it with e.g. a gaussian window\"\nplt.imshow(img, cmap=plt.cm.gray)\nplt.colorbar()\nplt.show()",
      "execution_count": null,
      "outputs": []
    },
    {
      "metadata": {},
      "cell_type": "markdown",
      "source": "Now change the sigma a couple of times to see the effect"
    }
  ],
  "metadata": {
    "kernelspec": {
      "name": "python3",
      "display_name": "Python 3",
      "language": "python"
    },
    "language_info": {
      "mimetype": "text/x-python",
      "nbconvert_exporter": "python",
      "name": "python",
      "file_extension": ".py",
      "version": "3.5.4",
      "pygments_lexer": "ipython3",
      "codemirror_mode": {
        "version": 3,
        "name": "ipython"
      }
    }
  },
  "nbformat": 4,
  "nbformat_minor": 2
}