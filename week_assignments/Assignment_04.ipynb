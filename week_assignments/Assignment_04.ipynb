{
  "cells": [
    {
      "metadata": {},
      "cell_type": "markdown",
      "source": "## Assignment week 4: Getting data from social media"
    },
    {
      "metadata": {},
      "cell_type": "markdown",
      "source": "This week we will scrabe data from twitter using an API\n\nAPI stands for Application Programming Interface. It is the interface that allows software applications to communicate with one another. An API is a software-to-software interface, not a user interface. With APIs, applications talk to each other without any user knowledge or intervention.\n\nAn example is the Twitter API. It is a web-based JSON API that allows developers to programmatically interact with Twitter data. The Twitter API is a web-based API. It must be accessed by making requests over the Internet to services that Twitter hosts. With a web-based API such as Twitter’s, your application sends an HTTP request, just like a web browser does. But instead of the response being delivered as a webpage, for human understanding, it’s returned in a format that applications can easily parse. Various formats exist for this purpose, and Twitter uses a popular and easy-to-use format called JSON.\n\nIn order to access Twitter Streaming API, we need to get 4 pieces of information from Twitter: API key, API secret, Access token and Access token secret. If you to https://apps.twitter.com/ and log in with your twitter credentials you can create a New App and get the API key credentials for yourself.\n\nFor the twitter API we need the tweepy library see https://tweepy.readthedocs.io/en/latest/. Make sure this is installed in your virtual environment\n\n\nUse the example code from the script data section to create a listener. Change this into a nice object oriented solution. Use the appropiate design pattern for this. "
    },
    {
      "metadata": {
        "trusted": false
      },
      "cell_type": "code",
      "source": "#Step 1: download a json file with from twitter to get the tweets of your interest.",
      "execution_count": null,
      "outputs": []
    },
    {
      "metadata": {
        "trusted": false
      },
      "cell_type": "code",
      "source": "#Step 2: get the data in a nice dataframe. Use intermediate steps like temporary dataframes and merges to do this",
      "execution_count": null,
      "outputs": []
    },
    {
      "metadata": {
        "trusted": false
      },
      "cell_type": "code",
      "source": "#Step 3: Choose a nice visualization. Motivate your choises.  ",
      "execution_count": null,
      "outputs": []
    }
  ],
  "metadata": {
    "kernelspec": {
      "name": "python3",
      "display_name": "Python 3",
      "language": "python"
    },
    "language_info": {
      "mimetype": "text/x-python",
      "nbconvert_exporter": "python",
      "name": "python",
      "file_extension": ".py",
      "version": "3.5.4",
      "pygments_lexer": "ipython3",
      "codemirror_mode": {
        "version": 3,
        "name": "ipython"
      }
    }
  },
  "nbformat": 4,
  "nbformat_minor": 2
}