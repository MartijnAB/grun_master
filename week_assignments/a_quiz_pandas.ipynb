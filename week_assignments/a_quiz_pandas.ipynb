{
  "cells": [
    {
      "metadata": {},
      "cell_type": "markdown",
      "source": "## Exercise pandas\n\nThe TB_burden_age_sex_2019-04-23.csv for 2017 from the site https://www.who.int/tb/country/data/download/en/ can be found on the data folder. In this exercise you will open the file with `pd.read_csv()` method and do the following cleaning\n\n- drop the collumns iso2, iso3, iso_numeric. \n- rename the collumn age_group to age\n\nAfter that you answer the questions 0 to 4."
    },
    {
      "metadata": {
        "trusted": false
      },
      "cell_type": "code",
      "source": "# write your read function here",
      "execution_count": null,
      "outputs": []
    },
    {
      "metadata": {},
      "cell_type": "markdown",
      "source": "### Question 0 (Example)\n\nWhat is the first country in your dataframe df? This function should return a Series\n"
    },
    {
      "metadata": {
        "trusted": false
      },
      "cell_type": "code",
      "source": "def answer_zero():\n\n    return df.iloc[0]\n\nanswer_zero() ",
      "execution_count": null,
      "outputs": []
    },
    {
      "metadata": {},
      "cell_type": "markdown",
      "source": "### Question 1\n\nWhich country has the highest estimate of TB?\n\nThis function should return a the string India."
    },
    {
      "metadata": {
        "trusted": false
      },
      "cell_type": "code",
      "source": "def answer_one():\n    \n    return 0 #write your code here\n\nanswer_one()",
      "execution_count": null,
      "outputs": []
    },
    {
      "metadata": {},
      "cell_type": "markdown",
      "source": "### Question 2\n\nWhich country has the smallest difference between high and low estimates?"
    },
    {
      "metadata": {
        "trusted": false
      },
      "cell_type": "code",
      "source": "def answer_two():\n    \n    return 0 #write your code here, should return American Samoa\n\nanswer_two() # should return American Samoa",
      "execution_count": null,
      "outputs": []
    },
    {
      "metadata": {},
      "cell_type": "markdown",
      "source": "### Question 3\n\nHow many countries have 65plus records?"
    },
    {
      "metadata": {
        "trusted": false
      },
      "cell_type": "code",
      "source": "def answer_three(df):\n    \n    return 0 # write your code here, should return 119\n\nanswer_three(df) # should return 119\n        ",
      "execution_count": null,
      "outputs": []
    },
    {
      "metadata": {},
      "cell_type": "markdown",
      "source": "### Question 4\n\nSelect the females and exclude the 'sex = all' records. What are the top 5 countries that have the two most highest 'best estimates'? \n"
    },
    {
      "metadata": {
        "trusted": false
      },
      "cell_type": "code",
      "source": "#write your code here, should return this\n\"\"\"\nIndia          1084000\nIndonesia       393000\nChina           296000\nPakistan        252000\nPhilippines     173000\n\"\"\"",
      "execution_count": null,
      "outputs": []
    }
  ],
  "metadata": {
    "kernelspec": {
      "name": "python3",
      "display_name": "Python 3",
      "language": "python"
    },
    "language_info": {
      "mimetype": "text/x-python",
      "nbconvert_exporter": "python",
      "name": "python",
      "pygments_lexer": "ipython3",
      "version": "3.5.4",
      "file_extension": ".py",
      "codemirror_mode": {
        "version": 3,
        "name": "ipython"
      }
    }
  },
  "nbformat": 4,
  "nbformat_minor": 2
}